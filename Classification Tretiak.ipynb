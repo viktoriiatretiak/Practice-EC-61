{
 "cells": [
  {
   "cell_type": "markdown",
   "metadata": {},
   "source": [
    "# Classification"
   ]
  },
  {
   "cell_type": "code",
   "execution_count": 1,
   "metadata": {},
   "outputs": [],
   "source": [
    "# Importing the libraries\n",
    "import numpy as np\n",
    "import matplotlib.pyplot as plt\n",
    "import pandas as pd"
   ]
  },
  {
   "cell_type": "code",
   "execution_count": 2,
   "metadata": {},
   "outputs": [],
   "source": [
    "# Importing the dataset\n",
    "df = pd.read_csv('marketing_prep.csv', sep=';')"
   ]
  },
  {
   "cell_type": "markdown",
   "metadata": {},
   "source": [
    "Необхідно виконати певні перетворення данних. Необхідно додати новий стовпець до нашого датафрейму. В даному стовпці буде записано вихідне значення порівняння витрат користувачів на вино з сумою значень трат користувача на інші категорії товарів. Оскільки на етапі підготовки даних, виконувалось логарифмування даних, то при порівнянні та сумуванні даних необхідно скористатись зворотною функцією - еспоненціюванням. Якщо трати на вино користувача будуть більшими, ніж трати на інші продукти, то в стовпці споживачів вина буде записуватись 1, в зворотньому випадку - 0."
   ]
  },
  {
   "cell_type": "code",
   "execution_count": 3,
   "metadata": {},
   "outputs": [],
   "source": [
    "df['WineCons']=np.where((np.exp(df['MntWines'])-1) > ((np.exp(df['AllSpends'])-1)-(np.exp(df['MntWines'])-1)), 1, 0)"
   ]
  },
  {
   "cell_type": "markdown",
   "metadata": {},
   "source": [
    "Для класифікації в якості залежної змінної буде використовуватись останній стовпець, який демонструє чи є користувачем переважно споживачем вина чи ні. Тобто задача класифікації полягає в тому, щоб за віком, освітою, статусом особистого життя, доходом, кількістю дітей, місяцем здійснення першої покупки визначити чи буде користувач витрачати більше коштів на вино чи ні."
   ]
  },
  {
   "cell_type": "code",
   "execution_count": 4,
   "metadata": {},
   "outputs": [],
   "source": [
    "# Splitting the dataset into the Training set and Test set\n",
    "X = df.iloc[:, :-8].values\n",
    "y = df.iloc[:, -1].values\n",
    "from sklearn.model_selection import train_test_split\n",
    "X_train, X_test, y_train, y_test = train_test_split(X, y, test_size=0.2, random_state=1)"
   ]
  },
  {
   "cell_type": "code",
   "execution_count": 5,
   "metadata": {},
   "outputs": [],
   "source": [
    "# Feature Scaling\n",
    "from sklearn.preprocessing import StandardScaler\n",
    "sc_X = StandardScaler().fit(X_train)\n",
    "X_train = sc_X.transform(X_train)\n",
    "X_test = sc_X.transform(X_test)"
   ]
  },
  {
   "cell_type": "markdown",
   "metadata": {},
   "source": [
    "### Logistic Regression"
   ]
  },
  {
   "cell_type": "code",
   "execution_count": 6,
   "metadata": {},
   "outputs": [
    {
     "name": "stdout",
     "output_type": "stream",
     "text": [
      "Optimization terminated successfully.\n",
      "         Current function value: 0.581826\n",
      "         Iterations 6\n",
      "                         Results: Logit\n",
      "=================================================================\n",
      "Model:              Logit            Pseudo R-squared: 0.150     \n",
      "Dependent Variable: y                AIC:              2092.6100 \n",
      "Date:               2020-10-28 19:35 BIC:              2125.5431 \n",
      "No. Observations:   1788             Log-Likelihood:   -1040.3   \n",
      "Df Model:           5                LL-Null:          -1223.7   \n",
      "Df Residuals:       1782             LLR p-value:      4.1311e-77\n",
      "Converged:          1.0000           Scale:            1.0000    \n",
      "No. Iterations:     6.0000                                       \n",
      "--------------------------------------------------------------------\n",
      "        Coef.     Std.Err.       z       P>|z|      [0.025    0.975]\n",
      "--------------------------------------------------------------------\n",
      "x1      0.3424      0.0563     6.0816    0.0000     0.2321    0.4528\n",
      "x2      0.6574      0.0587    11.1905    0.0000     0.5422    0.7725\n",
      "x3     -0.0111      0.0532    -0.2084    0.8350    -0.1153    0.0931\n",
      "x4      0.5199      0.0631     8.2459    0.0000     0.3964    0.6435\n",
      "x5      0.5775      0.0632     9.1417    0.0000     0.4537    0.7013\n",
      "x6      0.0496      0.0530     0.9360    0.3493    -0.0542    0.1534\n",
      "=================================================================\n",
      "\n"
     ]
    }
   ],
   "source": [
    "# Baseline model\n",
    "import statsmodels.api as sm\n",
    "lr = sm.Logit(y_train, X_train).fit()\n",
    "print(lr.summary2())"
   ]
  },
  {
   "cell_type": "raw",
   "metadata": {},
   "source": [
    "Як бачимо з побудованої базової моделі, статистично значимими є 1-ша, 2-га, 4-та, 5-та змінні, так як у них значення p-value менше 1. При побудові моделей в якості класифікаторів буде використовувати виключно ці фактори. Перетворимо наші тренувальну та тестові вибірки таким чином, щоб в них залишились виключно ті дані, які будуть використовуватись при побудові моделей."
   ]
  },
  {
   "cell_type": "code",
   "execution_count": 7,
   "metadata": {},
   "outputs": [],
   "source": [
    "# Features selection\n",
    "X_train = X_train[:,[0,1,3,4]]\n",
    "X_test = X_test[:,[0,1,3,4]]"
   ]
  },
  {
   "cell_type": "code",
   "execution_count": 8,
   "metadata": {},
   "outputs": [],
   "source": [
    "# Fitting Logistic Regression to the Training set (2 variables)\n",
    "from sklearn.linear_model import LogisticRegression\n",
    "slr = LogisticRegression(random_state = 13).fit(X_train, y_train)"
   ]
  },
  {
   "cell_type": "code",
   "execution_count": 9,
   "metadata": {},
   "outputs": [
    {
     "data": {
      "text/plain": [
       "0.7114093959731543"
      ]
     },
     "execution_count": 9,
     "metadata": {},
     "output_type": "execute_result"
    }
   ],
   "source": [
    "# Predicting the Test set results\n",
    "y_pred = slr.predict(X_test)\n",
    "slr.score(X_test,y_test)"
   ]
  },
  {
   "cell_type": "code",
   "execution_count": 10,
   "metadata": {},
   "outputs": [
    {
     "name": "stdout",
     "output_type": "stream",
     "text": [
      "[[200  48]\n",
      " [ 81 118]]\n"
     ]
    }
   ],
   "source": [
    "# Making the Confusion Matrix\n",
    "from sklearn.metrics import confusion_matrix\n",
    "cm = confusion_matrix(y_test, y_pred)\n",
    "print(cm)"
   ]
  },
  {
   "cell_type": "markdown",
   "metadata": {},
   "source": [
    "Дана модель має точність прогнозу 71.14%. Має 10.88% хибно негативних значень та 18.37% хибно негативних значень. Вцілому модель є досить непоганою."
   ]
  },
  {
   "cell_type": "markdown",
   "metadata": {},
   "source": [
    "### K-Nearest Neighbors"
   ]
  },
  {
   "cell_type": "code",
   "execution_count": 11,
   "metadata": {},
   "outputs": [
    {
     "name": "stdout",
     "output_type": "stream",
     "text": [
      "Minimum error:- 0.25279642058165547 at K = 42\n"
     ]
    },
    {
     "data": {
      "image/png": "[encoded data removed]",
      "text/plain": [
       "<Figure size 720x432 with 1 Axes>"
      ]
     },
     "metadata": {
      "needs_background": "light"
     },
     "output_type": "display_data"
    }
   ],
   "source": [
    "# Optimal K \n",
    "from sklearn.neighbors import KNeighborsClassifier\n",
    "error_rate = []\n",
    "for i in range(1,50):\n",
    "     knn = KNeighborsClassifier(n_neighbors=i)\n",
    "     knn.fit(X_train,y_train)\n",
    "     pred_i = knn.predict(X_test)\n",
    "     error_rate.append(np.mean(pred_i != y_test))\n",
    "\n",
    "plt.figure(figsize=(10,6))\n",
    "plt.plot(range(1,50),error_rate,color='blue', linestyle='dashed', \n",
    "         marker='o',markerfacecolor='red', markersize=10)\n",
    "plt.title('Error Rate vs. K Value')\n",
    "plt.xlabel('K')\n",
    "plt.ylabel('Error Rate')\n",
    "print(\"Minimum error:-\",min(error_rate),\"at K =\",error_rate.index(min(error_rate)))"
   ]
  },
  {
   "cell_type": "code",
   "execution_count": 12,
   "metadata": {},
   "outputs": [],
   "source": [
    "# Fitting K-NN to the Training set (4 variables)\n",
    "knn = KNeighborsClassifier(n_neighbors = 42, metric = 'minkowski', p = 2).fit(X_train, y_train)"
   ]
  },
  {
   "cell_type": "code",
   "execution_count": 13,
   "metadata": {},
   "outputs": [
    {
     "data": {
      "text/plain": [
       "0.7404921700223713"
      ]
     },
     "execution_count": 13,
     "metadata": {},
     "output_type": "execute_result"
    }
   ],
   "source": [
    "# Predicting the Test set results\n",
    "y_pred1 = knn.predict(X_test)\n",
    "knn.score(X_test,y_test)"
   ]
  },
  {
   "cell_type": "code",
   "execution_count": 14,
   "metadata": {},
   "outputs": [
    {
     "name": "stdout",
     "output_type": "stream",
     "text": [
      "[[207  41]\n",
      " [ 75 124]]\n"
     ]
    }
   ],
   "source": [
    "# Making the Confusion Matrix\n",
    "from sklearn.metrics import confusion_matrix\n",
    "cm = confusion_matrix(y_test, y_pred1)\n",
    "print(cm)"
   ]
  },
  {
   "cell_type": "markdown",
   "metadata": {},
   "source": [
    "Модель KNN є краще, ніж попередня модель логістичної регресії. Так як коефіцієнт точності розпізнавання збільшився майже на 3%, а кількість помилково розпізнаних даних скоротилась 13. Стало менше як хибно позитивних, так і хибно негативних."
   ]
  },
  {
   "cell_type": "markdown",
   "metadata": {},
   "source": [
    "### Support Vector Machine (SVM)"
   ]
  },
  {
   "cell_type": "code",
   "execution_count": 15,
   "metadata": {},
   "outputs": [],
   "source": [
    "# Fitting SVM to the Training set (4 variables)\n",
    "from sklearn.svm import SVC\n",
    "svm = SVC(kernel = 'rbf', random_state = 10).fit(X_train, y_train)"
   ]
  },
  {
   "cell_type": "code",
   "execution_count": 16,
   "metadata": {},
   "outputs": [
    {
     "data": {
      "text/plain": [
       "0.7114093959731543"
      ]
     },
     "execution_count": 16,
     "metadata": {},
     "output_type": "execute_result"
    }
   ],
   "source": [
    "# Predicting the Test set results\n",
    "y_pred2 = svm.predict(X_test)\n",
    "svm.score(X_test,y_test)"
   ]
  },
  {
   "cell_type": "code",
   "execution_count": 17,
   "metadata": {},
   "outputs": [
    {
     "name": "stdout",
     "output_type": "stream",
     "text": [
      "[[195  53]\n",
      " [ 76 123]]\n"
     ]
    }
   ],
   "source": [
    "# Making the Confusion Matrix\n",
    "from sklearn.metrics import confusion_matrix\n",
    "cm = confusion_matrix(y_test, y_pred2)\n",
    "print(cm)"
   ]
  },
  {
   "cell_type": "markdown",
   "metadata": {},
   "source": [
    "Дана модель є гіршою, ніж KNN як за коефіцієнтом детермінації, так і за кількістю помилково розпізнаних даних.\n",
    "А от якщо порівнювати з моделлю логістичної регресії, то в них коефіцієнт розпізнавання даних є однаковим. Також однакова загальна кількість помилково розпізнаних даних. Але SVM має меншу кіл-сть хибно негативних значень, проте має більшу кіл-сть хибно позитивних значень."
   ]
  },
  {
   "cell_type": "markdown",
   "metadata": {},
   "source": [
    "### Naive Bayes"
   ]
  },
  {
   "cell_type": "code",
   "execution_count": 18,
   "metadata": {},
   "outputs": [],
   "source": [
    "# Fitting Naive Bayes to the Training set (4 variables)\n",
    "from sklearn.naive_bayes import GaussianNB\n",
    "nb = GaussianNB().fit(X_train, y_train)"
   ]
  },
  {
   "cell_type": "code",
   "execution_count": 19,
   "metadata": {},
   "outputs": [
    {
     "data": {
      "text/plain": [
       "0.70917225950783"
      ]
     },
     "execution_count": 19,
     "metadata": {},
     "output_type": "execute_result"
    }
   ],
   "source": [
    "# Predicting the Test set results\n",
    "y_pred3 = nb.predict(X_test)\n",
    "nb.score(X_test,y_test)"
   ]
  },
  {
   "cell_type": "code",
   "execution_count": 20,
   "metadata": {},
   "outputs": [
    {
     "name": "stdout",
     "output_type": "stream",
     "text": [
      "[[196  52]\n",
      " [ 78 121]]\n"
     ]
    }
   ],
   "source": [
    "# Making the Confusion Matrix\n",
    "from sklearn.metrics import confusion_matrix\n",
    "cm = confusion_matrix(y_test, y_pred3)\n",
    "print(cm)"
   ]
  },
  {
   "cell_type": "markdown",
   "metadata": {},
   "source": [
    "З усіх розглянутих на даний момент моделей, дана модель є найгіршою. Про це свідчить найменше значення точності та найбільша кіль-сть помилково розізнаних даних."
   ]
  },
  {
   "cell_type": "markdown",
   "metadata": {},
   "source": [
    "### Classification Tree"
   ]
  },
  {
   "cell_type": "code",
   "execution_count": 21,
   "metadata": {},
   "outputs": [],
   "source": [
    "# Function Max Leaf\n",
    "def max_leaf_nodes(X_train, X_test, y_train, y_test, n):\n",
    "    mse_train = []\n",
    "    mse_test = []\n",
    "    for i in n:\n",
    "        rf = DecisionTreeRegressor(max_leaf_nodes = i, random_state=10).fit(X_train, y_train)\n",
    "        mse_train.append(mean_squared_error(y_train, rf.predict(X_train)))\n",
    "        mse_test.append(mean_squared_error(y_test, rf.predict(X_test)))\n",
    "    fig, ax = plt.subplots(figsize=(8, 4))\n",
    "    ax.plot(n, mse_train, alpha=0.5, color='blue', label='train')\n",
    "    ax.plot(n, mse_test, alpha=0.5, color='red', label='test')\n",
    "    ax.set_ylabel(\"MSE\")\n",
    "    ax.set_xlabel(\"max_leaf_nodes\")"
   ]
  },
  {
   "cell_type": "code",
   "execution_count": 22,
   "metadata": {},
   "outputs": [
    {
     "data": {
      "image/png": "[encoded data removed]",
      "text/plain": [
       "<Figure size 576x288 with 1 Axes>"
      ]
     },
     "metadata": {
      "needs_background": "light"
     },
     "output_type": "display_data"
    }
   ],
   "source": [
    "# The optimal number of max_leaf_nodes\n",
    "from sklearn.tree import DecisionTreeRegressor\n",
    "from sklearn.metrics import mean_squared_error\n",
    "max_leaf_nodes(X_train, X_test, y_train, y_test, [2, 4, 6, 8, 10, 12, 14])"
   ]
  },
  {
   "cell_type": "markdown",
   "metadata": {},
   "source": [
    "Так як найменше значення помилки на тестовій вибіркі спостерігається при max_leaf_nodes=10, то візбмемо в якості даного параметро саме число 10."
   ]
  },
  {
   "cell_type": "code",
   "execution_count": 23,
   "metadata": {},
   "outputs": [],
   "source": [
    "# Fitting Classification Tree to the Training set (2 variables)\n",
    "from sklearn.tree import DecisionTreeClassifier\n",
    "ct = DecisionTreeClassifier(max_leaf_nodes = 10, criterion = 'entropy', random_state = 10).fit(X_train, y_train)"
   ]
  },
  {
   "cell_type": "code",
   "execution_count": 24,
   "metadata": {},
   "outputs": [
    {
     "data": {
      "text/plain": [
       "0.7158836689038032"
      ]
     },
     "execution_count": 24,
     "metadata": {},
     "output_type": "execute_result"
    }
   ],
   "source": [
    "# Predicting the Test set results\n",
    "y_pred4 = ct.predict(X_test)\n",
    "ct.score(X_test,y_test)"
   ]
  },
  {
   "cell_type": "code",
   "execution_count": 25,
   "metadata": {},
   "outputs": [
    {
     "name": "stdout",
     "output_type": "stream",
     "text": [
      "[[187  61]\n",
      " [ 66 133]]\n"
     ]
    }
   ],
   "source": [
    "# Making the Confusion Matrix\n",
    "from sklearn.metrics import confusion_matrix\n",
    "cm = confusion_matrix(y_test, y_pred4)\n",
    "print(cm)"
   ]
  },
  {
   "cell_type": "markdown",
   "metadata": {},
   "source": [
    "Дана модель не є найкращою з усіх розглянутих. За коефіцієнтом детермінації вона поступається моделі KNN. В порівнянні з усіма іншими моделаями вона є трохи кращою за точністю прогнохування класу. Що стосується кіл-сті помилково розпізнаних данних, то вона має максимальну кількість хибно позитивних значень та мінімальну кіл-сть хибно негативних значень в порівнянні з усіма іншими моделями\n",
    "\n",
    "Тепер побудуємо модель випадкового лісу"
   ]
  },
  {
   "cell_type": "code",
   "execution_count": 26,
   "metadata": {},
   "outputs": [],
   "source": [
    "def rf_best_n_estimator(X_train, X_test, y_train, y_test, n):\n",
    "    mse_train = []\n",
    "    mse_test = []\n",
    "    for i in n:\n",
    "        rf = RandomForestClassifier(n_estimators=i, random_state=10).fit(X_train, y_train)\n",
    "        mse_train.append(mean_squared_error(y_train, rf.predict(X_train)))\n",
    "        mse_test.append(mean_squared_error(y_test, rf.predict(X_test)))\n",
    "    fig, ax = plt.subplots(figsize=(8, 4))\n",
    "    ax.plot(n, mse_train, alpha=0.5, color='blue', label='train')\n",
    "    ax.plot(n, mse_test, alpha=0.5, color='red', label='test')\n",
    "    ax.set_ylabel(\"MSE\")\n",
    "    ax.set_xlabel(\"N_estimators\")"
   ]
  },
  {
   "cell_type": "code",
   "execution_count": 27,
   "metadata": {},
   "outputs": [
    {
     "data": {
      "image/png": "[encoded data removed]",
      "text/plain": [
       "<Figure size 576x288 with 1 Axes>"
      ]
     },
     "metadata": {
      "needs_background": "light"
     },
     "output_type": "display_data"
    }
   ],
   "source": [
    "# The optimal number of trees \n",
    "from sklearn.ensemble import RandomForestClassifier    \n",
    "rf_best_n_estimator(X_train, X_test, y_train, y_test, [2, 5, 10, 15, 20])"
   ]
  },
  {
   "cell_type": "markdown",
   "metadata": {},
   "source": [
    "Для моделі випадкового лісу в якості кількості дерев можна обрати 5."
   ]
  },
  {
   "cell_type": "code",
   "execution_count": 28,
   "metadata": {},
   "outputs": [],
   "source": [
    "def rf_max_leaf_nodes(X_train, X_test, y_train, y_test, n):\n",
    "    mse_train = []\n",
    "    mse_test = []\n",
    "    for i in n:\n",
    "        rf = RandomForestClassifier(n_estimators=5, max_leaf_nodes =i, random_state=10).fit(X_train, y_train)\n",
    "        mse_train.append(mean_squared_error(y_train, rf.predict(X_train)))\n",
    "        mse_test.append(mean_squared_error(y_test, rf.predict(X_test)))\n",
    "    fig, ax = plt.subplots(figsize=(8, 4))\n",
    "    ax.plot(n, mse_train, alpha=0.5, color='blue', label='train')\n",
    "    ax.plot(n, mse_test, alpha=0.5, color='red', label='test')\n",
    "    ax.set_ylabel(\"MSE\")\n",
    "    ax.set_xlabel(\"max_leaf_nodes\")"
   ]
  },
  {
   "cell_type": "code",
   "execution_count": 29,
   "metadata": {},
   "outputs": [
    {
     "data": {
      "image/png": "[encoded data removed]",
      "text/plain": [
       "<Figure size 576x288 with 1 Axes>"
      ]
     },
     "metadata": {
      "needs_background": "light"
     },
     "output_type": "display_data"
    }
   ],
   "source": [
    "# The optimal number of max_leaf_nodes\n",
    "rf_max_leaf_nodes(X_train, X_test, y_train, y_test, [2, 4, 6, 8, 10])"
   ]
  },
  {
   "cell_type": "markdown",
   "metadata": {},
   "source": [
    "Так як найменше значення помилки на тестовій вибіркі при відносно невеликій розбіжності значень помилок на тренувальній та тестовій вибірках спостерігається при max_leaf_nodes=4, то візьмемо в якості даного параметро саме число 4."
   ]
  },
  {
   "cell_type": "code",
   "execution_count": 30,
   "metadata": {},
   "outputs": [],
   "source": [
    "# Fitting Random Forest to the Training set\n",
    "from sklearn.ensemble import RandomForestClassifier\n",
    "rf = RandomForestClassifier(n_estimators = 5, max_leaf_nodes = 4, random_state = 10).fit(X_train, y_train)"
   ]
  },
  {
   "cell_type": "code",
   "execution_count": 31,
   "metadata": {},
   "outputs": [
    {
     "data": {
      "text/plain": [
       "0.7046979865771812"
      ]
     },
     "execution_count": 31,
     "metadata": {},
     "output_type": "execute_result"
    }
   ],
   "source": [
    "# Predicting the Test set results\n",
    "y_pred5 = rf.predict(X_test)\n",
    "y_pred5 = (y_pred5 > 0.5)\n",
    "rf.score(X_test,y_test)"
   ]
  },
  {
   "cell_type": "code",
   "execution_count": 32,
   "metadata": {},
   "outputs": [
    {
     "name": "stdout",
     "output_type": "stream",
     "text": [
      "[[197  51]\n",
      " [ 81 118]]\n"
     ]
    }
   ],
   "source": [
    "# Making the Confusion Matrix\n",
    "from sklearn.metrics import confusion_matrix\n",
    "cm = confusion_matrix(y_test, y_pred5)\n",
    "print(cm)"
   ]
  },
  {
   "cell_type": "markdown",
   "metadata": {},
   "source": [
    "За коефіцієнтом правильно розпізнаних данних, дана модель є найгіршою проте, точність моделі скадає трохи більше 70%, тому може бути застосована на практиці"
   ]
  },
  {
   "cell_type": "markdown",
   "metadata": {},
   "source": [
    "### Classification Neural Network"
   ]
  },
  {
   "cell_type": "code",
   "execution_count": 33,
   "metadata": {},
   "outputs": [
    {
     "name": "stderr",
     "output_type": "stream",
     "text": [
      "Using TensorFlow backend.\n"
     ]
    }
   ],
   "source": [
    "# Install Tensorflow\n",
    "# Install Keras\n",
    "# Importing the Keras libraries and packages\n",
    "import keras\n",
    "from keras.models import Sequential\n",
    "from keras.layers import Dense"
   ]
  },
  {
   "cell_type": "markdown",
   "metadata": {},
   "source": [
    "Побудуємо декілька нейронних мереж для класифікації. Будемо розглядати 5 різних архітектур - '4-3-1', '4-2-1', '4-3-2-1', '4-2-2-1', '4-4-1'. Кількість спостережнь в тренувальній вибірці дозволяє нам проекспериментувати з вказаними архітектурами моделі. Також кількість нейронів на прихованих шарах в даних моделях не перевищує подвоєнної кіл-сті пояснюючих змінних"
   ]
  },
  {
   "cell_type": "code",
   "execution_count": 34,
   "metadata": {},
   "outputs": [
    {
     "name": "stderr",
     "output_type": "stream",
     "text": [
      "C:\\Users\\38095\\anaconda3\\envs\\labvika\\lib\\site-packages\\ipykernel_launcher.py:5: UserWarning: Update your `Dense` call to the Keras 2 API: `Dense(activation=\"relu\", input_dim=4, units=3, kernel_initializer=\"uniform\")`\n",
      "  \"\"\"\n",
      "C:\\Users\\38095\\anaconda3\\envs\\labvika\\lib\\site-packages\\ipykernel_launcher.py:8: UserWarning: Update your `Dense` call to the Keras 2 API: `Dense(activation=\"sigmoid\", units=1, kernel_initializer=\"uniform\")`\n",
      "  \n"
     ]
    }
   ],
   "source": [
    "# Initialising the ANN 4-3-1\n",
    "cnn1 = Sequential()\n",
    "\n",
    "# Adding the input layer and the first hidden layer\n",
    "cnn1.add(Dense(output_dim = 3, init = 'uniform', activation = 'relu', input_dim = 4))\n",
    "\n",
    "# Adding the output layer\n",
    "cnn1.add(Dense(output_dim = 1, init = 'uniform', activation = 'sigmoid'))\n",
    "\n",
    "# Compiling the ANN\n",
    "cnn1.compile(optimizer = 'adam', loss = 'binary_crossentropy', metrics = ['accuracy'])"
   ]
  },
  {
   "cell_type": "code",
   "execution_count": 35,
   "metadata": {
    "scrolled": false
   },
   "outputs": [
    {
     "name": "stderr",
     "output_type": "stream",
     "text": [
      "C:\\Users\\38095\\anaconda3\\envs\\labvika\\lib\\site-packages\\ipykernel_launcher.py:2: UserWarning: The `nb_epoch` argument in `fit` has been renamed `epochs`.\n",
      "  \n"
     ]
    },
    {
     "name": "stdout",
     "output_type": "stream",
     "text": [
      "Epoch 1/100\n",
      "1788/1788 [==============================] - 0s 266us/step - loss: 0.6854 - accuracy: 0.5638\n",
      "Epoch 2/100\n",
      "1788/1788 [==============================] - 0s 132us/step - loss: 0.6394 - accuracy: 0.6521\n",
      "Epoch 3/100\n",
      "1788/1788 [==============================] - 0s 143us/step - loss: 0.5967 - accuracy: 0.6868\n",
      "Epoch 4/100\n",
      "1788/1788 [==============================] - 0s 136us/step - loss: 0.5765 - accuracy: 0.6946\n",
      "Epoch 5/100\n",
      "1788/1788 [==============================] - 0s 131us/step - loss: 0.5679 - accuracy: 0.6969\n",
      "Epoch 6/100\n",
      "1788/1788 [==============================] - 0s 150us/step - loss: 0.5641 - accuracy: 0.6991\n",
      "Epoch 7/100\n",
      "1788/1788 [==============================] - 0s 131us/step - loss: 0.5618 - accuracy: 0.7025\n",
      "Epoch 8/100\n",
      "1788/1788 [==============================] - 0s 124us/step - loss: 0.5604 - accuracy: 0.7047\n",
      "Epoch 9/100\n",
      "1788/1788 [==============================] - 0s 134us/step - loss: 0.5592 - accuracy: 0.7058\n",
      "Epoch 10/100\n",
      "1788/1788 [==============================] - 0s 134us/step - loss: 0.5576 - accuracy: 0.7081\n",
      "Epoch 11/100\n",
      "1788/1788 [==============================] - 0s 125us/step - loss: 0.5563 - accuracy: 0.7114\n",
      "Epoch 12/100\n",
      "1788/1788 [==============================] - 0s 130us/step - loss: 0.5548 - accuracy: 0.7136\n",
      "Epoch 13/100\n",
      "1788/1788 [==============================] - 0s 147us/step - loss: 0.5530 - accuracy: 0.7148\n",
      "Epoch 14/100\n",
      "1788/1788 [==============================] - 0s 135us/step - loss: 0.5508 - accuracy: 0.7148\n",
      "Epoch 15/100\n",
      "1788/1788 [==============================] - 0s 132us/step - loss: 0.5490 - accuracy: 0.7164\n",
      "Epoch 16/100\n",
      "1788/1788 [==============================] - 0s 131us/step - loss: 0.5468 - accuracy: 0.7148\n",
      "Epoch 17/100\n",
      "1788/1788 [==============================] - 0s 151us/step - loss: 0.5444 - accuracy: 0.7181\n",
      "Epoch 18/100\n",
      "1788/1788 [==============================] - 0s 129us/step - loss: 0.5423 - accuracy: 0.7192\n",
      "Epoch 19/100\n",
      "1788/1788 [==============================] - 0s 121us/step - loss: 0.5403 - accuracy: 0.7254\n",
      "Epoch 20/100\n",
      "1788/1788 [==============================] - 0s 126us/step - loss: 0.5387 - accuracy: 0.7248\n",
      "Epoch 21/100\n",
      "1788/1788 [==============================] - 0s 160us/step - loss: 0.5368 - accuracy: 0.7260\n",
      "Epoch 22/100\n",
      "1788/1788 [==============================] - 0s 140us/step - loss: 0.5350 - accuracy: 0.7276\n",
      "Epoch 23/100\n",
      "1788/1788 [==============================] - 0s 153us/step - loss: 0.5336 - accuracy: 0.7271\n",
      "Epoch 24/100\n",
      "1788/1788 [==============================] - 0s 142us/step - loss: 0.5324 - accuracy: 0.7254\n",
      "Epoch 25/100\n",
      "1788/1788 [==============================] - 0s 148us/step - loss: 0.5313 - accuracy: 0.7282\n",
      "Epoch 26/100\n",
      "1788/1788 [==============================] - 0s 126us/step - loss: 0.5303 - accuracy: 0.7237\n",
      "Epoch 27/100\n",
      "1788/1788 [==============================] - 0s 124us/step - loss: 0.5294 - accuracy: 0.7282\n",
      "Epoch 28/100\n",
      "1788/1788 [==============================] - 0s 121us/step - loss: 0.5286 - accuracy: 0.7293\n",
      "Epoch 29/100\n",
      "1788/1788 [==============================] - 0s 120us/step - loss: 0.5281 - accuracy: 0.7327\n",
      "Epoch 30/100\n",
      "1788/1788 [==============================] - 0s 132us/step - loss: 0.5273 - accuracy: 0.7321\n",
      "Epoch 31/100\n",
      "1788/1788 [==============================] - 0s 126us/step - loss: 0.5269 - accuracy: 0.7315\n",
      "Epoch 32/100\n",
      "1788/1788 [==============================] - 0s 130us/step - loss: 0.5262 - accuracy: 0.7321\n",
      "Epoch 33/100\n",
      "1788/1788 [==============================] - 0s 123us/step - loss: 0.5257 - accuracy: 0.7360\n",
      "Epoch 34/100\n",
      "1788/1788 [==============================] - 0s 127us/step - loss: 0.5256 - accuracy: 0.7304\n",
      "Epoch 35/100\n",
      "1788/1788 [==============================] - 0s 125us/step - loss: 0.5251 - accuracy: 0.7304\n",
      "Epoch 36/100\n",
      "1788/1788 [==============================] - 0s 127us/step - loss: 0.5247 - accuracy: 0.7293\n",
      "Epoch 37/100\n",
      "1788/1788 [==============================] - 0s 123us/step - loss: 0.5248 - accuracy: 0.7293\n",
      "Epoch 38/100\n",
      "1788/1788 [==============================] - 0s 124us/step - loss: 0.5244 - accuracy: 0.7293\n",
      "Epoch 39/100\n",
      "1788/1788 [==============================] - 0s 130us/step - loss: 0.5243 - accuracy: 0.7282\n",
      "Epoch 40/100\n",
      "1788/1788 [==============================] - 0s 127us/step - loss: 0.5238 - accuracy: 0.7293\n",
      "Epoch 41/100\n",
      "1788/1788 [==============================] - 0s 147us/step - loss: 0.5238 - accuracy: 0.7287\n",
      "Epoch 42/100\n",
      "1788/1788 [==============================] - 0s 127us/step - loss: 0.5234 - accuracy: 0.7265\n",
      "Epoch 43/100\n",
      "1788/1788 [==============================] - 0s 123us/step - loss: 0.5234 - accuracy: 0.7282\n",
      "Epoch 44/100\n",
      "1788/1788 [==============================] - 0s 119us/step - loss: 0.5233 - accuracy: 0.7304\n",
      "Epoch 45/100\n",
      "1788/1788 [==============================] - 0s 125us/step - loss: 0.5231 - accuracy: 0.7287\n",
      "Epoch 46/100\n",
      "1788/1788 [==============================] - 0s 133us/step - loss: 0.5231 - accuracy: 0.7321\n",
      "Epoch 47/100\n",
      "1788/1788 [==============================] - 0s 128us/step - loss: 0.5232 - accuracy: 0.7265\n",
      "Epoch 48/100\n",
      "1788/1788 [==============================] - 0s 132us/step - loss: 0.5226 - accuracy: 0.7276\n",
      "Epoch 49/100\n",
      "1788/1788 [==============================] - 0s 125us/step - loss: 0.5226 - accuracy: 0.7282\n",
      "Epoch 50/100\n",
      "1788/1788 [==============================] - 0s 122us/step - loss: 0.5227 - accuracy: 0.7310\n",
      "Epoch 51/100\n",
      "1788/1788 [==============================] - 0s 121us/step - loss: 0.5224 - accuracy: 0.7287\n",
      "Epoch 52/100\n",
      "1788/1788 [==============================] - 0s 123us/step - loss: 0.5223 - accuracy: 0.7271\n",
      "Epoch 53/100\n",
      "1788/1788 [==============================] - 0s 122us/step - loss: 0.5223 - accuracy: 0.7271\n",
      "Epoch 54/100\n",
      "1788/1788 [==============================] - 0s 127us/step - loss: 0.5221 - accuracy: 0.7276\n",
      "Epoch 55/100\n",
      "1788/1788 [==============================] - 0s 139us/step - loss: 0.5222 - accuracy: 0.7282\n",
      "Epoch 56/100\n",
      "1788/1788 [==============================] - 0s 120us/step - loss: 0.5220 - accuracy: 0.7237\n",
      "Epoch 57/100\n",
      "1788/1788 [==============================] - 0s 121us/step - loss: 0.5220 - accuracy: 0.7260\n",
      "Epoch 58/100\n",
      "1788/1788 [==============================] - 0s 119us/step - loss: 0.5219 - accuracy: 0.7260\n",
      "Epoch 59/100\n",
      "1788/1788 [==============================] - 0s 122us/step - loss: 0.5218 - accuracy: 0.7293\n",
      "Epoch 60/100\n",
      "1788/1788 [==============================] - 0s 123us/step - loss: 0.5218 - accuracy: 0.7271\n",
      "Epoch 61/100\n",
      "1788/1788 [==============================] - 0s 133us/step - loss: 0.5217 - accuracy: 0.7276\n",
      "Epoch 62/100\n",
      "1788/1788 [==============================] - 0s 125us/step - loss: 0.5215 - accuracy: 0.7287\n",
      "Epoch 63/100\n",
      "1788/1788 [==============================] - 0s 133us/step - loss: 0.5218 - accuracy: 0.7310\n",
      "Epoch 64/100\n",
      "1788/1788 [==============================] - 0s 128us/step - loss: 0.5215 - accuracy: 0.7271\n",
      "Epoch 65/100\n",
      "1788/1788 [==============================] - 0s 123us/step - loss: 0.5215 - accuracy: 0.7276\n",
      "Epoch 66/100\n",
      "1788/1788 [==============================] - 0s 127us/step - loss: 0.5213 - accuracy: 0.7327\n",
      "Epoch 67/100\n",
      "1788/1788 [==============================] - 0s 129us/step - loss: 0.5213 - accuracy: 0.7293\n",
      "Epoch 68/100\n",
      "1788/1788 [==============================] - 0s 130us/step - loss: 0.5212 - accuracy: 0.7299\n",
      "Epoch 69/100\n",
      "1788/1788 [==============================] - 0s 122us/step - loss: 0.5212 - accuracy: 0.7293\n",
      "Epoch 70/100\n",
      "1788/1788 [==============================] - 0s 127us/step - loss: 0.5212 - accuracy: 0.7293\n",
      "Epoch 71/100\n",
      "1788/1788 [==============================] - 0s 122us/step - loss: 0.5211 - accuracy: 0.7310\n",
      "Epoch 72/100\n",
      "1788/1788 [==============================] - 0s 124us/step - loss: 0.5210 - accuracy: 0.7310\n",
      "Epoch 73/100\n",
      "1788/1788 [==============================] - 0s 124us/step - loss: 0.5211 - accuracy: 0.7299\n",
      "Epoch 74/100\n",
      "1788/1788 [==============================] - 0s 137us/step - loss: 0.5211 - accuracy: 0.7282\n",
      "Epoch 75/100\n",
      "1788/1788 [==============================] - 0s 130us/step - loss: 0.5210 - accuracy: 0.7282\n",
      "Epoch 76/100\n",
      "1788/1788 [==============================] - 0s 124us/step - loss: 0.5208 - accuracy: 0.7287\n",
      "Epoch 77/100\n",
      "1788/1788 [==============================] - 0s 123us/step - loss: 0.5210 - accuracy: 0.7276\n",
      "Epoch 78/100\n",
      "1788/1788 [==============================] - 0s 130us/step - loss: 0.5209 - accuracy: 0.7276\n",
      "Epoch 79/100\n",
      "1788/1788 [==============================] - 0s 121us/step - loss: 0.5208 - accuracy: 0.7276\n",
      "Epoch 80/100\n",
      "1788/1788 [==============================] - 0s 125us/step - loss: 0.5210 - accuracy: 0.7293\n",
      "Epoch 81/100\n",
      "1788/1788 [==============================] - 0s 128us/step - loss: 0.5212 - accuracy: 0.7299\n",
      "Epoch 82/100\n",
      "1788/1788 [==============================] - 0s 121us/step - loss: 0.5207 - accuracy: 0.7287\n",
      "Epoch 83/100\n",
      "1788/1788 [==============================] - 0s 123us/step - loss: 0.5207 - accuracy: 0.7287\n",
      "Epoch 84/100\n",
      "1788/1788 [==============================] - 0s 123us/step - loss: 0.5211 - accuracy: 0.7271\n",
      "Epoch 85/100\n",
      "1788/1788 [==============================] - 0s 130us/step - loss: 0.5209 - accuracy: 0.7271\n",
      "Epoch 86/100\n",
      "1788/1788 [==============================] - 0s 133us/step - loss: 0.5208 - accuracy: 0.7304\n",
      "Epoch 87/100\n",
      "1788/1788 [==============================] - 0s 143us/step - loss: 0.5205 - accuracy: 0.7282\n",
      "Epoch 88/100\n",
      "1788/1788 [==============================] - 0s 123us/step - loss: 0.5206 - accuracy: 0.7299\n",
      "Epoch 89/100\n",
      "1788/1788 [==============================] - 0s 126us/step - loss: 0.5206 - accuracy: 0.7299\n",
      "Epoch 90/100\n",
      "1788/1788 [==============================] - 0s 125us/step - loss: 0.5206 - accuracy: 0.7315\n",
      "Epoch 91/100\n",
      "1788/1788 [==============================] - 0s 130us/step - loss: 0.5206 - accuracy: 0.7304\n",
      "Epoch 92/100\n",
      "1788/1788 [==============================] - 0s 125us/step - loss: 0.5207 - accuracy: 0.7315\n",
      "Epoch 93/100\n",
      "1788/1788 [==============================] - 0s 127us/step - loss: 0.5205 - accuracy: 0.7293\n",
      "Epoch 94/100\n",
      "1788/1788 [==============================] - 0s 120us/step - loss: 0.5206 - accuracy: 0.7287\n",
      "Epoch 95/100\n",
      "1788/1788 [==============================] - 0s 128us/step - loss: 0.5206 - accuracy: 0.7315\n",
      "Epoch 96/100\n",
      "1788/1788 [==============================] - 0s 128us/step - loss: 0.5204 - accuracy: 0.7315\n",
      "Epoch 97/100\n",
      "1788/1788 [==============================] - 0s 128us/step - loss: 0.5207 - accuracy: 0.7315\n",
      "Epoch 98/100\n",
      "1788/1788 [==============================] - 0s 132us/step - loss: 0.5205 - accuracy: 0.7304\n",
      "Epoch 99/100\n",
      "1788/1788 [==============================] - 0s 132us/step - loss: 0.5203 - accuracy: 0.7310\n",
      "Epoch 100/100\n",
      "1788/1788 [==============================] - 0s 127us/step - loss: 0.5206 - accuracy: 0.7304\n"
     ]
    },
    {
     "data": {
      "text/plain": [
       "<keras.callbacks.callbacks.History at 0x22efb16a6c8>"
      ]
     },
     "execution_count": 35,
     "metadata": {},
     "output_type": "execute_result"
    }
   ],
   "source": [
    "# Fitting the ANN to the Training set\n",
    "cnn1.fit(X_train, y_train, batch_size = 10, nb_epoch = 100)"
   ]
  },
  {
   "cell_type": "code",
   "execution_count": 36,
   "metadata": {},
   "outputs": [],
   "source": [
    "# Predicting the Test set results\n",
    "y_pred6 = cnn1.predict(X_test)\n",
    "y_pred6 = (y_pred6 > 0.5)"
   ]
  },
  {
   "cell_type": "code",
   "execution_count": 37,
   "metadata": {},
   "outputs": [
    {
     "name": "stdout",
     "output_type": "stream",
     "text": [
      "[[190  58]\n",
      " [ 68 131]]\n"
     ]
    }
   ],
   "source": [
    "# Making the Confusion Matrix\n",
    "from sklearn.metrics import confusion_matrix\n",
    "cm1 = confusion_matrix(y_test, y_pred6)\n",
    "print(cm1)"
   ]
  },
  {
   "cell_type": "code",
   "execution_count": 38,
   "metadata": {},
   "outputs": [
    {
     "name": "stderr",
     "output_type": "stream",
     "text": [
      "C:\\Users\\38095\\anaconda3\\envs\\labvika\\lib\\site-packages\\ipykernel_launcher.py:5: UserWarning: Update your `Dense` call to the Keras 2 API: `Dense(activation=\"relu\", input_dim=4, units=2, kernel_initializer=\"uniform\")`\n",
      "  \"\"\"\n",
      "C:\\Users\\38095\\anaconda3\\envs\\labvika\\lib\\site-packages\\ipykernel_launcher.py:8: UserWarning: Update your `Dense` call to the Keras 2 API: `Dense(activation=\"sigmoid\", units=1, kernel_initializer=\"uniform\")`\n",
      "  \n"
     ]
    }
   ],
   "source": [
    "# Initialising the ANN 4-2-1\n",
    "cnn2 = Sequential()\n",
    "\n",
    "# Adding the input layer and the first hidden layer\n",
    "cnn2.add(Dense(output_dim = 2, init = 'uniform', activation = 'relu', input_dim = 4))\n",
    "\n",
    "# Adding the output layer\n",
    "cnn2.add(Dense(output_dim = 1, init = 'uniform', activation = 'sigmoid'))\n",
    "\n",
    "# Compiling the ANN\n",
    "cnn2.compile(optimizer = 'adam', loss = 'binary_crossentropy', metrics = ['accuracy'])"
   ]
  },
  {
   "cell_type": "code",
   "execution_count": 39,
   "metadata": {},
   "outputs": [
    {
     "name": "stderr",
     "output_type": "stream",
     "text": [
      "C:\\Users\\38095\\anaconda3\\envs\\labvika\\lib\\site-packages\\ipykernel_launcher.py:2: UserWarning: The `nb_epoch` argument in `fit` has been renamed `epochs`.\n",
      "  \n"
     ]
    },
    {
     "name": "stdout",
     "output_type": "stream",
     "text": [
      "Epoch 1/100\n",
      "1788/1788 [==============================] - 0s 168us/step - loss: 0.6861 - accuracy: 0.5666\n",
      "Epoch 2/100\n",
      "1788/1788 [==============================] - 0s 123us/step - loss: 0.6531 - accuracy: 0.6572\n",
      "Epoch 3/100\n",
      "1788/1788 [==============================] - 0s 123us/step - loss: 0.6140 - accuracy: 0.6885\n",
      "Epoch 4/100\n",
      "1788/1788 [==============================] - 0s 124us/step - loss: 0.5878 - accuracy: 0.6924\n",
      "Epoch 5/100\n",
      "1788/1788 [==============================] - 0s 124us/step - loss: 0.5745 - accuracy: 0.6946\n",
      "Epoch 6/100\n",
      "1788/1788 [==============================] - 0s 127us/step - loss: 0.5677 - accuracy: 0.69850s - loss: 0.5739 - accuracy: 0.\n",
      "Epoch 7/100\n",
      "1788/1788 [==============================] - 0s 135us/step - loss: 0.5643 - accuracy: 0.6980\n",
      "Epoch 8/100\n",
      "1788/1788 [==============================] - 0s 127us/step - loss: 0.5624 - accuracy: 0.7013\n",
      "Epoch 9/100\n",
      "1788/1788 [==============================] - 0s 127us/step - loss: 0.5612 - accuracy: 0.7092\n",
      "Epoch 10/100\n",
      "1788/1788 [==============================] - 0s 128us/step - loss: 0.5603 - accuracy: 0.7092\n",
      "Epoch 11/100\n",
      "1788/1788 [==============================] - 0s 131us/step - loss: 0.5593 - accuracy: 0.7136\n",
      "Epoch 12/100\n",
      "1788/1788 [==============================] - 0s 133us/step - loss: 0.5584 - accuracy: 0.7103\n",
      "Epoch 13/100\n",
      "1788/1788 [==============================] - 0s 128us/step - loss: 0.5577 - accuracy: 0.7125\n",
      "Epoch 14/100\n",
      "1788/1788 [==============================] - 0s 128us/step - loss: 0.5571 - accuracy: 0.7097\n",
      "Epoch 15/100\n",
      "1788/1788 [==============================] - 0s 127us/step - loss: 0.5564 - accuracy: 0.7120\n",
      "Epoch 16/100\n",
      "1788/1788 [==============================] - 0s 122us/step - loss: 0.5558 - accuracy: 0.7092\n",
      "Epoch 17/100\n",
      "1788/1788 [==============================] - 0s 134us/step - loss: 0.5553 - accuracy: 0.7058\n",
      "Epoch 18/100\n",
      "1788/1788 [==============================] - 0s 123us/step - loss: 0.5545 - accuracy: 0.7081\n",
      "Epoch 19/100\n",
      "1788/1788 [==============================] - 0s 136us/step - loss: 0.5542 - accuracy: 0.7064\n",
      "Epoch 20/100\n",
      "1788/1788 [==============================] - 0s 134us/step - loss: 0.5542 - accuracy: 0.7075\n",
      "Epoch 21/100\n",
      "1788/1788 [==============================] - 0s 124us/step - loss: 0.5534 - accuracy: 0.7097\n",
      "Epoch 22/100\n",
      "1788/1788 [==============================] - 0s 128us/step - loss: 0.5531 - accuracy: 0.7092\n",
      "Epoch 23/100\n",
      "1788/1788 [==============================] - 0s 130us/step - loss: 0.5526 - accuracy: 0.7109\n",
      "Epoch 24/100\n",
      "1788/1788 [==============================] - 0s 138us/step - loss: 0.5522 - accuracy: 0.7086\n",
      "Epoch 25/100\n",
      "1788/1788 [==============================] - 0s 133us/step - loss: 0.5519 - accuracy: 0.7109\n",
      "Epoch 26/100\n",
      "1788/1788 [==============================] - 0s 168us/step - loss: 0.5517 - accuracy: 0.7120\n",
      "Epoch 27/100\n",
      "1788/1788 [==============================] - 0s 164us/step - loss: 0.5511 - accuracy: 0.7148\n",
      "Epoch 28/100\n",
      "1788/1788 [==============================] - 0s 181us/step - loss: 0.5506 - accuracy: 0.7142\n",
      "Epoch 29/100\n",
      "1788/1788 [==============================] - 0s 182us/step - loss: 0.5505 - accuracy: 0.7181\n",
      "Epoch 30/100\n",
      "1788/1788 [==============================] - 0s 155us/step - loss: 0.5500 - accuracy: 0.7164\n",
      "Epoch 31/100\n",
      "1788/1788 [==============================] - 0s 169us/step - loss: 0.5495 - accuracy: 0.7142\n",
      "Epoch 32/100\n",
      "1788/1788 [==============================] - 0s 161us/step - loss: 0.5492 - accuracy: 0.7170\n",
      "Epoch 33/100\n",
      "1788/1788 [==============================] - 0s 212us/step - loss: 0.5487 - accuracy: 0.7181\n",
      "Epoch 34/100\n",
      "1788/1788 [==============================] - 0s 219us/step - loss: 0.5482 - accuracy: 0.7226\n",
      "Epoch 35/100\n",
      "1788/1788 [==============================] - 1s 410us/step - loss: 0.5481 - accuracy: 0.7187\n",
      "Epoch 36/100\n",
      "1788/1788 [==============================] - 1s 419us/step - loss: 0.5476 - accuracy: 0.7215\n",
      "Epoch 37/100\n",
      "1788/1788 [==============================] - 1s 411us/step - loss: 0.5473 - accuracy: 0.7237\n",
      "Epoch 38/100\n",
      "1788/1788 [==============================] - 1s 301us/step - loss: 0.5467 - accuracy: 0.7237\n",
      "Epoch 39/100\n",
      "1788/1788 [==============================] - 0s 167us/step - loss: 0.5462 - accuracy: 0.7220\n",
      "Epoch 40/100\n",
      "1788/1788 [==============================] - 1s 283us/step - loss: 0.5457 - accuracy: 0.7232\n",
      "Epoch 41/100\n",
      "1788/1788 [==============================] - 1s 408us/step - loss: 0.5453 - accuracy: 0.7260\n",
      "Epoch 42/100\n",
      "1788/1788 [==============================] - 1s 453us/step - loss: 0.5444 - accuracy: 0.7243\n",
      "Epoch 43/100\n",
      "1788/1788 [==============================] - 1s 371us/step - loss: 0.5441 - accuracy: 0.7220\n",
      "Epoch 44/100\n",
      "1788/1788 [==============================] - 1s 400us/step - loss: 0.5436 - accuracy: 0.7226\n",
      "Epoch 45/100\n",
      "1788/1788 [==============================] - 1s 365us/step - loss: 0.5434 - accuracy: 0.7243\n",
      "Epoch 46/100\n",
      "1788/1788 [==============================] - 1s 361us/step - loss: 0.5429 - accuracy: 0.7209\n",
      "Epoch 47/100\n",
      "1788/1788 [==============================] - 1s 359us/step - loss: 0.5425 - accuracy: 0.7220\n",
      "Epoch 48/100\n",
      "1788/1788 [==============================] - 1s 342us/step - loss: 0.5422 - accuracy: 0.7209\n",
      "Epoch 49/100\n",
      "1788/1788 [==============================] - 1s 312us/step - loss: 0.5417 - accuracy: 0.7232\n",
      "Epoch 50/100\n",
      "1788/1788 [==============================] - 1s 314us/step - loss: 0.5415 - accuracy: 0.7215\n",
      "Epoch 51/100\n",
      "1788/1788 [==============================] - 1s 308us/step - loss: 0.5412 - accuracy: 0.7226\n",
      "Epoch 52/100\n",
      "1788/1788 [==============================] - 0s 269us/step - loss: 0.5407 - accuracy: 0.7204\n",
      "Epoch 53/100\n",
      "1788/1788 [==============================] - 0s 220us/step - loss: 0.5403 - accuracy: 0.7220\n",
      "Epoch 54/100\n",
      "1788/1788 [==============================] - 1s 292us/step - loss: 0.5398 - accuracy: 0.7237\n",
      "Epoch 55/100\n",
      "1788/1788 [==============================] - 1s 304us/step - loss: 0.5394 - accuracy: 0.7248\n",
      "Epoch 56/100\n",
      "1788/1788 [==============================] - 1s 301us/step - loss: 0.5386 - accuracy: 0.7265\n",
      "Epoch 57/100\n",
      "1788/1788 [==============================] - 1s 306us/step - loss: 0.5383 - accuracy: 0.7237\n",
      "Epoch 58/100\n",
      "1788/1788 [==============================] - 1s 304us/step - loss: 0.5379 - accuracy: 0.7226\n",
      "Epoch 59/100\n",
      "1788/1788 [==============================] - 1s 309us/step - loss: 0.5375 - accuracy: 0.7287\n",
      "Epoch 60/100\n",
      "1788/1788 [==============================] - 1s 313us/step - loss: 0.5370 - accuracy: 0.7287\n",
      "Epoch 61/100\n",
      "1788/1788 [==============================] - 1s 306us/step - loss: 0.5365 - accuracy: 0.7260\n",
      "Epoch 62/100\n",
      "1788/1788 [==============================] - 1s 306us/step - loss: 0.5359 - accuracy: 0.7271\n",
      "Epoch 63/100\n",
      "1788/1788 [==============================] - 1s 306us/step - loss: 0.5357 - accuracy: 0.7260\n",
      "Epoch 64/100\n",
      "1788/1788 [==============================] - 1s 301us/step - loss: 0.5354 - accuracy: 0.7265\n",
      "Epoch 65/100\n",
      "1788/1788 [==============================] - 1s 305us/step - loss: 0.5351 - accuracy: 0.7254\n",
      "Epoch 66/100\n",
      "1788/1788 [==============================] - 1s 305us/step - loss: 0.5348 - accuracy: 0.7243\n",
      "Epoch 67/100\n",
      "1788/1788 [==============================] - 1s 305us/step - loss: 0.5344 - accuracy: 0.7248\n",
      "Epoch 68/100\n",
      "1788/1788 [==============================] - 1s 311us/step - loss: 0.5342 - accuracy: 0.7254\n",
      "Epoch 69/100\n",
      "1788/1788 [==============================] - 1s 308us/step - loss: 0.5338 - accuracy: 0.7254\n",
      "Epoch 70/100\n",
      "1788/1788 [==============================] - 1s 306us/step - loss: 0.5337 - accuracy: 0.7237\n",
      "Epoch 71/100\n",
      "1788/1788 [==============================] - 1s 310us/step - loss: 0.5335 - accuracy: 0.7220\n",
      "Epoch 72/100\n",
      "1788/1788 [==============================] - 1s 307us/step - loss: 0.5334 - accuracy: 0.7243\n",
      "Epoch 73/100\n",
      "1788/1788 [==============================] - 1s 309us/step - loss: 0.5330 - accuracy: 0.7248\n",
      "Epoch 74/100\n",
      "1788/1788 [==============================] - 1s 309us/step - loss: 0.5327 - accuracy: 0.7232\n",
      "Epoch 75/100\n",
      "1788/1788 [==============================] - 1s 304us/step - loss: 0.5326 - accuracy: 0.7220\n",
      "Epoch 76/100\n",
      "1788/1788 [==============================] - 1s 306us/step - loss: 0.5325 - accuracy: 0.7248\n",
      "Epoch 77/100\n",
      "1788/1788 [==============================] - 1s 325us/step - loss: 0.5324 - accuracy: 0.7215\n",
      "Epoch 78/100\n"
     ]
    },
    {
     "name": "stdout",
     "output_type": "stream",
     "text": [
      "1788/1788 [==============================] - 1s 303us/step - loss: 0.5321 - accuracy: 0.7232\n",
      "Epoch 79/100\n",
      "1788/1788 [==============================] - 1s 305us/step - loss: 0.5320 - accuracy: 0.7220\n",
      "Epoch 80/100\n",
      "1788/1788 [==============================] - 1s 305us/step - loss: 0.5320 - accuracy: 0.7232\n",
      "Epoch 81/100\n",
      "1788/1788 [==============================] - 1s 302us/step - loss: 0.5321 - accuracy: 0.7209\n",
      "Epoch 82/100\n",
      "1788/1788 [==============================] - 1s 304us/step - loss: 0.5317 - accuracy: 0.7237\n",
      "Epoch 83/100\n",
      "1788/1788 [==============================] - 1s 303us/step - loss: 0.5316 - accuracy: 0.7215\n",
      "Epoch 84/100\n",
      "1788/1788 [==============================] - 1s 313us/step - loss: 0.5314 - accuracy: 0.7204\n",
      "Epoch 85/100\n",
      "1788/1788 [==============================] - 1s 298us/step - loss: 0.5314 - accuracy: 0.7192\n",
      "Epoch 86/100\n",
      "1788/1788 [==============================] - 1s 303us/step - loss: 0.5314 - accuracy: 0.7215\n",
      "Epoch 87/100\n",
      "1788/1788 [==============================] - 1s 302us/step - loss: 0.5312 - accuracy: 0.7204\n",
      "Epoch 88/100\n",
      "1788/1788 [==============================] - 1s 306us/step - loss: 0.5310 - accuracy: 0.7181\n",
      "Epoch 89/100\n",
      "1788/1788 [==============================] - 1s 307us/step - loss: 0.5310 - accuracy: 0.7192\n",
      "Epoch 90/100\n",
      "1788/1788 [==============================] - 1s 304us/step - loss: 0.5310 - accuracy: 0.7187\n",
      "Epoch 91/100\n",
      "1788/1788 [==============================] - 1s 304us/step - loss: 0.5310 - accuracy: 0.7192\n",
      "Epoch 92/100\n",
      "1788/1788 [==============================] - 1s 306us/step - loss: 0.5308 - accuracy: 0.7209\n",
      "Epoch 93/100\n",
      "1788/1788 [==============================] - 1s 303us/step - loss: 0.5308 - accuracy: 0.7232\n",
      "Epoch 94/100\n",
      "1788/1788 [==============================] - 1s 301us/step - loss: 0.5309 - accuracy: 0.7198\n",
      "Epoch 95/100\n",
      "1788/1788 [==============================] - 1s 303us/step - loss: 0.5305 - accuracy: 0.7204\n",
      "Epoch 96/100\n",
      "1788/1788 [==============================] - 1s 305us/step - loss: 0.5305 - accuracy: 0.7248\n",
      "Epoch 97/100\n",
      "1788/1788 [==============================] - 1s 302us/step - loss: 0.5304 - accuracy: 0.7220\n",
      "Epoch 98/100\n",
      "1788/1788 [==============================] - 1s 309us/step - loss: 0.5305 - accuracy: 0.7215\n",
      "Epoch 99/100\n",
      "1788/1788 [==============================] - 1s 301us/step - loss: 0.5304 - accuracy: 0.7220\n",
      "Epoch 100/100\n",
      "1788/1788 [==============================] - 1s 306us/step - loss: 0.5305 - accuracy: 0.7187\n"
     ]
    },
    {
     "data": {
      "text/plain": [
       "<keras.callbacks.callbacks.History at 0x22efc552dc8>"
      ]
     },
     "execution_count": 39,
     "metadata": {},
     "output_type": "execute_result"
    }
   ],
   "source": [
    "# Fitting the ANN to the Training set\n",
    "cnn2.fit(X_train, y_train, batch_size = 10, nb_epoch = 100)"
   ]
  },
  {
   "cell_type": "code",
   "execution_count": 40,
   "metadata": {},
   "outputs": [],
   "source": [
    "# Predicting the Test set results\n",
    "y_pred7 = cnn2.predict(X_test)\n",
    "y_pred7 = (y_pred7 > 0.5)"
   ]
  },
  {
   "cell_type": "code",
   "execution_count": 41,
   "metadata": {},
   "outputs": [
    {
     "name": "stdout",
     "output_type": "stream",
     "text": [
      "[[194  54]\n",
      " [ 73 126]]\n"
     ]
    }
   ],
   "source": [
    "# Making the Confusion Matrix\n",
    "from sklearn.metrics import confusion_matrix\n",
    "cm2 = confusion_matrix(y_test, y_pred7)\n",
    "print(cm2)"
   ]
  },
  {
   "cell_type": "code",
   "execution_count": 45,
   "metadata": {},
   "outputs": [
    {
     "name": "stderr",
     "output_type": "stream",
     "text": [
      "C:\\Users\\38095\\anaconda3\\envs\\labvika\\lib\\site-packages\\ipykernel_launcher.py:5: UserWarning: Update your `Dense` call to the Keras 2 API: `Dense(activation=\"relu\", input_dim=4, units=3, kernel_initializer=\"uniform\")`\n",
      "  \"\"\"\n",
      "C:\\Users\\38095\\anaconda3\\envs\\labvika\\lib\\site-packages\\ipykernel_launcher.py:8: UserWarning: Update your `Dense` call to the Keras 2 API: `Dense(activation=\"relu\", units=2, kernel_initializer=\"uniform\")`\n",
      "  \n",
      "C:\\Users\\38095\\anaconda3\\envs\\labvika\\lib\\site-packages\\ipykernel_launcher.py:11: UserWarning: Update your `Dense` call to the Keras 2 API: `Dense(activation=\"sigmoid\", units=1, kernel_initializer=\"uniform\")`\n",
      "  # This is added back by InteractiveShellApp.init_path()\n"
     ]
    }
   ],
   "source": [
    "# Initialising the ANN 4-3-2-1\n",
    "cnn3 = Sequential()\n",
    "\n",
    "# Adding the input layer and the first hidden layer\n",
    "cnn3.add(Dense(output_dim = 3, init = 'uniform', activation = 'relu', input_dim = 4))\n",
    "\n",
    "# Adding the hidden layer\n",
    "cnn3.add(Dense(output_dim = 2, init = 'uniform', activation = 'relu'))\n",
    "\n",
    "# Adding the output layer\n",
    "cnn3.add(Dense(output_dim = 1, init = 'uniform', activation = 'sigmoid'))\n",
    "\n",
    "# Compiling the ANN\n",
    "cnn3.compile(optimizer = 'adam', loss = 'binary_crossentropy', metrics = ['accuracy'])"
   ]
  },
  {
   "cell_type": "code",
   "execution_count": 46,
   "metadata": {},
   "outputs": [
    {
     "name": "stderr",
     "output_type": "stream",
     "text": [
      "C:\\Users\\38095\\anaconda3\\envs\\labvika\\lib\\site-packages\\ipykernel_launcher.py:2: UserWarning: The `nb_epoch` argument in `fit` has been renamed `epochs`.\n",
      "  \n"
     ]
    },
    {
     "name": "stdout",
     "output_type": "stream",
     "text": [
      "Epoch 1/100\n",
      "1788/1788 [==============================] - 0s 179us/step - loss: 0.6890 - accuracy: 0.5660\n",
      "Epoch 2/100\n",
      "1788/1788 [==============================] - 0s 133us/step - loss: 0.6586 - accuracy: 0.5660\n",
      "Epoch 3/100\n",
      "1788/1788 [==============================] - 0s 130us/step - loss: 0.6190 - accuracy: 0.5660\n",
      "Epoch 4/100\n",
      "1788/1788 [==============================] - 0s 158us/step - loss: 0.5999 - accuracy: 0.6281\n",
      "Epoch 5/100\n",
      "1788/1788 [==============================] - 0s 145us/step - loss: 0.5916 - accuracy: 0.6823\n",
      "Epoch 6/100\n",
      "1788/1788 [==============================] - 0s 133us/step - loss: 0.5861 - accuracy: 0.6868\n",
      "Epoch 7/100\n",
      "1788/1788 [==============================] - 0s 134us/step - loss: 0.5817 - accuracy: 0.6935\n",
      "Epoch 8/100\n",
      "1788/1788 [==============================] - 0s 133us/step - loss: 0.5781 - accuracy: 0.6997\n",
      "Epoch 9/100\n",
      "1788/1788 [==============================] - 0s 133us/step - loss: 0.5748 - accuracy: 0.7002\n",
      "Epoch 10/100\n",
      "1788/1788 [==============================] - 0s 147us/step - loss: 0.5715 - accuracy: 0.7075\n",
      "Epoch 11/100\n",
      "1788/1788 [==============================] - 0s 155us/step - loss: 0.5682 - accuracy: 0.7092\n",
      "Epoch 12/100\n",
      "1788/1788 [==============================] - 0s 135us/step - loss: 0.5646 - accuracy: 0.7164\n",
      "Epoch 13/100\n",
      "1788/1788 [==============================] - 0s 135us/step - loss: 0.5607 - accuracy: 0.7181\n",
      "Epoch 14/100\n",
      "1788/1788 [==============================] - 0s 150us/step - loss: 0.5577 - accuracy: 0.7226\n",
      "Epoch 15/100\n",
      "1788/1788 [==============================] - 0s 149us/step - loss: 0.5547 - accuracy: 0.7237\n",
      "Epoch 16/100\n",
      "1788/1788 [==============================] - 0s 149us/step - loss: 0.5520 - accuracy: 0.7282\n",
      "Epoch 17/100\n",
      "1788/1788 [==============================] - 0s 141us/step - loss: 0.5494 - accuracy: 0.7299\n",
      "Epoch 18/100\n",
      "1788/1788 [==============================] - 0s 171us/step - loss: 0.5470 - accuracy: 0.7315\n",
      "Epoch 19/100\n",
      "1788/1788 [==============================] - 0s 170us/step - loss: 0.5451 - accuracy: 0.7304\n",
      "Epoch 20/100\n",
      "1788/1788 [==============================] - 0s 144us/step - loss: 0.5434 - accuracy: 0.7315\n",
      "Epoch 21/100\n",
      "1788/1788 [==============================] - 0s 158us/step - loss: 0.5419 - accuracy: 0.7310\n",
      "Epoch 22/100\n",
      "1788/1788 [==============================] - 0s 156us/step - loss: 0.5406 - accuracy: 0.7327\n",
      "Epoch 23/100\n",
      "1788/1788 [==============================] - 0s 148us/step - loss: 0.5391 - accuracy: 0.7332\n",
      "Epoch 24/100\n",
      "1788/1788 [==============================] - 0s 161us/step - loss: 0.5379 - accuracy: 0.7287\n",
      "Epoch 25/100\n",
      "1788/1788 [==============================] - 0s 161us/step - loss: 0.5368 - accuracy: 0.7287\n",
      "Epoch 26/100\n",
      "1788/1788 [==============================] - 0s 166us/step - loss: 0.5357 - accuracy: 0.7315\n",
      "Epoch 27/100\n",
      "1788/1788 [==============================] - 0s 179us/step - loss: 0.5350 - accuracy: 0.7287\n",
      "Epoch 28/100\n",
      "1788/1788 [==============================] - 0s 156us/step - loss: 0.5342 - accuracy: 0.7293\n",
      "Epoch 29/100\n",
      "1788/1788 [==============================] - 0s 168us/step - loss: 0.5335 - accuracy: 0.7260\n",
      "Epoch 30/100\n",
      "1788/1788 [==============================] - 0s 153us/step - loss: 0.5327 - accuracy: 0.7260\n",
      "Epoch 31/100\n",
      "1788/1788 [==============================] - 0s 137us/step - loss: 0.5323 - accuracy: 0.7248\n",
      "Epoch 32/100\n",
      "1788/1788 [==============================] - 0s 147us/step - loss: 0.5320 - accuracy: 0.7260\n",
      "Epoch 33/100\n",
      "1788/1788 [==============================] - 0s 147us/step - loss: 0.5316 - accuracy: 0.7237\n",
      "Epoch 34/100\n",
      "1788/1788 [==============================] - 0s 135us/step - loss: 0.5311 - accuracy: 0.7260\n",
      "Epoch 35/100\n",
      "1788/1788 [==============================] - 0s 139us/step - loss: 0.5309 - accuracy: 0.7248\n",
      "Epoch 36/100\n",
      "1788/1788 [==============================] - 0s 137us/step - loss: 0.5306 - accuracy: 0.7248\n",
      "Epoch 37/100\n",
      "1788/1788 [==============================] - 0s 146us/step - loss: 0.5305 - accuracy: 0.7243\n",
      "Epoch 38/100\n",
      "1788/1788 [==============================] - 0s 130us/step - loss: 0.5300 - accuracy: 0.7237\n",
      "Epoch 39/100\n",
      "1788/1788 [==============================] - 0s 132us/step - loss: 0.5297 - accuracy: 0.7271\n",
      "Epoch 40/100\n",
      "1788/1788 [==============================] - 0s 132us/step - loss: 0.5298 - accuracy: 0.7254\n",
      "Epoch 41/100\n",
      "1788/1788 [==============================] - 0s 168us/step - loss: 0.5295 - accuracy: 0.7254\n",
      "Epoch 42/100\n",
      "1788/1788 [==============================] - 0s 153us/step - loss: 0.5292 - accuracy: 0.7276\n",
      "Epoch 43/100\n",
      "1788/1788 [==============================] - 0s 143us/step - loss: 0.5293 - accuracy: 0.7243\n",
      "Epoch 44/100\n",
      "1788/1788 [==============================] - 0s 138us/step - loss: 0.5291 - accuracy: 0.7282\n",
      "Epoch 45/100\n",
      "1788/1788 [==============================] - 0s 137us/step - loss: 0.5288 - accuracy: 0.7282\n",
      "Epoch 46/100\n",
      "1788/1788 [==============================] - 0s 131us/step - loss: 0.5291 - accuracy: 0.7237\n",
      "Epoch 47/100\n",
      "1788/1788 [==============================] - 0s 127us/step - loss: 0.5288 - accuracy: 0.7287\n",
      "Epoch 48/100\n",
      "1788/1788 [==============================] - 0s 136us/step - loss: 0.5284 - accuracy: 0.7260\n",
      "Epoch 49/100\n",
      "1788/1788 [==============================] - 0s 136us/step - loss: 0.5289 - accuracy: 0.7276\n",
      "Epoch 50/100\n",
      "1788/1788 [==============================] - 0s 134us/step - loss: 0.5284 - accuracy: 0.7276\n",
      "Epoch 51/100\n",
      "1788/1788 [==============================] - 0s 157us/step - loss: 0.5282 - accuracy: 0.7282\n",
      "Epoch 52/100\n",
      "1788/1788 [==============================] - 0s 137us/step - loss: 0.5287 - accuracy: 0.7282\n",
      "Epoch 53/100\n",
      "1788/1788 [==============================] - 0s 135us/step - loss: 0.5285 - accuracy: 0.7315\n",
      "Epoch 54/100\n",
      "1788/1788 [==============================] - 0s 144us/step - loss: 0.5282 - accuracy: 0.7282\n",
      "Epoch 55/100\n",
      "1788/1788 [==============================] - 0s 136us/step - loss: 0.5281 - accuracy: 0.7271\n",
      "Epoch 56/100\n",
      "1788/1788 [==============================] - 0s 132us/step - loss: 0.5280 - accuracy: 0.7271\n",
      "Epoch 57/100\n",
      "1788/1788 [==============================] - 0s 134us/step - loss: 0.5280 - accuracy: 0.7287\n",
      "Epoch 58/100\n",
      "1788/1788 [==============================] - 0s 137us/step - loss: 0.5281 - accuracy: 0.7276\n",
      "Epoch 59/100\n",
      "1788/1788 [==============================] - 0s 146us/step - loss: 0.5279 - accuracy: 0.7271\n",
      "Epoch 60/100\n",
      "1788/1788 [==============================] - 0s 131us/step - loss: 0.5277 - accuracy: 0.7265\n",
      "Epoch 61/100\n",
      "1788/1788 [==============================] - 0s 134us/step - loss: 0.5276 - accuracy: 0.7265\n",
      "Epoch 62/100\n",
      "1788/1788 [==============================] - 0s 128us/step - loss: 0.5280 - accuracy: 0.7276\n",
      "Epoch 63/100\n",
      "1788/1788 [==============================] - 0s 135us/step - loss: 0.5277 - accuracy: 0.7282\n",
      "Epoch 64/100\n",
      "1788/1788 [==============================] - 0s 132us/step - loss: 0.5278 - accuracy: 0.7271\n",
      "Epoch 65/100\n",
      "1788/1788 [==============================] - 0s 135us/step - loss: 0.5276 - accuracy: 0.7276\n",
      "Epoch 66/100\n",
      "1788/1788 [==============================] - 0s 138us/step - loss: 0.5276 - accuracy: 0.7276\n",
      "Epoch 67/100\n",
      "1788/1788 [==============================] - 0s 127us/step - loss: 0.5273 - accuracy: 0.7282\n",
      "Epoch 68/100\n",
      "1788/1788 [==============================] - 0s 155us/step - loss: 0.5274 - accuracy: 0.7287\n",
      "Epoch 69/100\n",
      "1788/1788 [==============================] - 0s 150us/step - loss: 0.5274 - accuracy: 0.7293\n",
      "Epoch 70/100\n",
      "1788/1788 [==============================] - 0s 170us/step - loss: 0.5272 - accuracy: 0.7315\n",
      "Epoch 71/100\n",
      "1788/1788 [==============================] - 0s 156us/step - loss: 0.5271 - accuracy: 0.7287\n",
      "Epoch 72/100\n",
      "1788/1788 [==============================] - 0s 148us/step - loss: 0.5272 - accuracy: 0.7293\n",
      "Epoch 73/100\n",
      "1788/1788 [==============================] - 0s 172us/step - loss: 0.5270 - accuracy: 0.7287\n",
      "Epoch 74/100\n",
      "1788/1788 [==============================] - 0s 155us/step - loss: 0.5268 - accuracy: 0.7304\n",
      "Epoch 75/100\n",
      "1788/1788 [==============================] - 0s 134us/step - loss: 0.5268 - accuracy: 0.7293\n",
      "Epoch 76/100\n",
      "1788/1788 [==============================] - 0s 132us/step - loss: 0.5271 - accuracy: 0.7271\n",
      "Epoch 77/100\n",
      "1788/1788 [==============================] - 0s 152us/step - loss: 0.5268 - accuracy: 0.7293\n",
      "Epoch 78/100\n",
      "1788/1788 [==============================] - 0s 143us/step - loss: 0.5271 - accuracy: 0.7304\n",
      "Epoch 79/100\n",
      "1788/1788 [==============================] - 0s 160us/step - loss: 0.5267 - accuracy: 0.7310\n",
      "Epoch 80/100\n",
      "1788/1788 [==============================] - 0s 149us/step - loss: 0.5267 - accuracy: 0.7327\n",
      "Epoch 81/100\n",
      "1788/1788 [==============================] - 0s 140us/step - loss: 0.5269 - accuracy: 0.7310\n",
      "Epoch 82/100\n",
      "1788/1788 [==============================] - 0s 154us/step - loss: 0.5264 - accuracy: 0.7304\n",
      "Epoch 83/100\n",
      "1788/1788 [==============================] - 0s 182us/step - loss: 0.5267 - accuracy: 0.7287\n",
      "Epoch 84/100\n",
      "1788/1788 [==============================] - 0s 148us/step - loss: 0.5264 - accuracy: 0.7315\n",
      "Epoch 85/100\n",
      "1788/1788 [==============================] - 0s 157us/step - loss: 0.5266 - accuracy: 0.7310\n",
      "Epoch 86/100\n",
      "1788/1788 [==============================] - 0s 158us/step - loss: 0.5267 - accuracy: 0.7293\n",
      "Epoch 87/100\n",
      "1788/1788 [==============================] - 0s 177us/step - loss: 0.5265 - accuracy: 0.7287\n",
      "Epoch 88/100\n",
      "1788/1788 [==============================] - 0s 178us/step - loss: 0.5264 - accuracy: 0.7321\n",
      "Epoch 89/100\n",
      "1788/1788 [==============================] - 0s 151us/step - loss: 0.5267 - accuracy: 0.7299\n",
      "Epoch 90/100\n",
      "1788/1788 [==============================] - 0s 168us/step - loss: 0.5265 - accuracy: 0.7299\n",
      "Epoch 91/100\n",
      "1788/1788 [==============================] - 0s 162us/step - loss: 0.5266 - accuracy: 0.7315\n",
      "Epoch 92/100\n",
      "1788/1788 [==============================] - 0s 149us/step - loss: 0.5266 - accuracy: 0.7293\n",
      "Epoch 93/100\n",
      "1788/1788 [==============================] - 0s 161us/step - loss: 0.5263 - accuracy: 0.7287\n",
      "Epoch 94/100\n",
      "1788/1788 [==============================] - 0s 159us/step - loss: 0.5266 - accuracy: 0.7282\n",
      "Epoch 95/100\n",
      "1788/1788 [==============================] - 0s 140us/step - loss: 0.5262 - accuracy: 0.7293\n",
      "Epoch 96/100\n",
      "1788/1788 [==============================] - 0s 157us/step - loss: 0.5263 - accuracy: 0.7260\n",
      "Epoch 97/100\n",
      "1788/1788 [==============================] - 0s 127us/step - loss: 0.5264 - accuracy: 0.7265\n",
      "Epoch 98/100\n",
      "1788/1788 [==============================] - 0s 135us/step - loss: 0.5262 - accuracy: 0.7271\n",
      "Epoch 99/100\n",
      "1788/1788 [==============================] - 0s 149us/step - loss: 0.5262 - accuracy: 0.7299\n",
      "Epoch 100/100\n",
      "1788/1788 [==============================] - 0s 157us/step - loss: 0.5263 - accuracy: 0.7287\n"
     ]
    },
    {
     "data": {
      "text/plain": [
       "<keras.callbacks.callbacks.History at 0x22efdb94188>"
      ]
     },
     "execution_count": 46,
     "metadata": {},
     "output_type": "execute_result"
    }
   ],
   "source": [
    "# Fitting the ANN to the Training set\n",
    "cnn3.fit(X_train, y_train, batch_size = 10, nb_epoch = 100)"
   ]
  },
  {
   "cell_type": "code",
   "execution_count": 47,
   "metadata": {},
   "outputs": [],
   "source": [
    "# Predicting the Test set results\n",
    "y_pred8 = cnn3.predict(X_test)\n",
    "y_pred8 = (y_pred8 > 0.5)"
   ]
  },
  {
   "cell_type": "code",
   "execution_count": 48,
   "metadata": {},
   "outputs": [
    {
     "name": "stdout",
     "output_type": "stream",
     "text": [
      "[[192  56]\n",
      " [ 66 133]]\n"
     ]
    }
   ],
   "source": [
    "# Making the Confusion Matrix\n",
    "from sklearn.metrics import confusion_matrix\n",
    "cm3 = confusion_matrix(y_test, y_pred8)\n",
    "print(cm3)"
   ]
  },
  {
   "cell_type": "code",
   "execution_count": 49,
   "metadata": {},
   "outputs": [
    {
     "name": "stderr",
     "output_type": "stream",
     "text": [
      "C:\\Users\\38095\\anaconda3\\envs\\labvika\\lib\\site-packages\\ipykernel_launcher.py:5: UserWarning: Update your `Dense` call to the Keras 2 API: `Dense(activation=\"relu\", input_dim=4, units=2, kernel_initializer=\"uniform\")`\n",
      "  \"\"\"\n",
      "C:\\Users\\38095\\anaconda3\\envs\\labvika\\lib\\site-packages\\ipykernel_launcher.py:8: UserWarning: Update your `Dense` call to the Keras 2 API: `Dense(activation=\"relu\", units=2, kernel_initializer=\"uniform\")`\n",
      "  \n",
      "C:\\Users\\38095\\anaconda3\\envs\\labvika\\lib\\site-packages\\ipykernel_launcher.py:11: UserWarning: Update your `Dense` call to the Keras 2 API: `Dense(activation=\"sigmoid\", units=1, kernel_initializer=\"uniform\")`\n",
      "  # This is added back by InteractiveShellApp.init_path()\n"
     ]
    }
   ],
   "source": [
    "# Initialising the ANN 4-2-2-1\n",
    "cnn4 = Sequential()\n",
    "\n",
    "# Adding the input layer and the first hidden layer\n",
    "cnn4.add(Dense(output_dim = 2, init = 'uniform', activation = 'relu', input_dim = 4))\n",
    "\n",
    "# Adding the hidden layer\n",
    "cnn4.add(Dense(output_dim = 2, init = 'uniform', activation = 'relu'))\n",
    "\n",
    "# Adding the output layer\n",
    "cnn4.add(Dense(output_dim = 1, init = 'uniform', activation = 'sigmoid'))\n",
    "\n",
    "# Compiling the ANN\n",
    "cnn4.compile(optimizer = 'adam', loss = 'binary_crossentropy', metrics = ['accuracy'])"
   ]
  },
  {
   "cell_type": "code",
   "execution_count": 50,
   "metadata": {},
   "outputs": [
    {
     "name": "stderr",
     "output_type": "stream",
     "text": [
      "C:\\Users\\38095\\anaconda3\\envs\\labvika\\lib\\site-packages\\ipykernel_launcher.py:2: UserWarning: The `nb_epoch` argument in `fit` has been renamed `epochs`.\n",
      "  \n"
     ]
    },
    {
     "name": "stdout",
     "output_type": "stream",
     "text": [
      "Epoch 1/100\n",
      "1788/1788 [==============================] - 0s 195us/step - loss: 0.6892 - accuracy: 0.5660\n",
      "Epoch 2/100\n",
      "1788/1788 [==============================] - 0s 137us/step - loss: 0.6529 - accuracy: 0.5660\n",
      "Epoch 3/100\n",
      "1788/1788 [==============================] - 0s 158us/step - loss: 0.6102 - accuracy: 0.5677\n",
      "Epoch 4/100\n",
      "1788/1788 [==============================] - 0s 149us/step - loss: 0.5923 - accuracy: 0.6902\n",
      "Epoch 5/100\n",
      "1788/1788 [==============================] - 0s 137us/step - loss: 0.5842 - accuracy: 0.7036\n",
      "Epoch 6/100\n",
      "1788/1788 [==============================] - 0s 150us/step - loss: 0.5774 - accuracy: 0.7103\n",
      "Epoch 7/100\n",
      "1788/1788 [==============================] - 0s 146us/step - loss: 0.5717 - accuracy: 0.7153\n",
      "Epoch 8/100\n",
      "1788/1788 [==============================] - 0s 163us/step - loss: 0.5663 - accuracy: 0.7181\n",
      "Epoch 9/100\n",
      "1788/1788 [==============================] - 0s 147us/step - loss: 0.5619 - accuracy: 0.7209\n",
      "Epoch 10/100\n",
      "1788/1788 [==============================] - 0s 151us/step - loss: 0.5577 - accuracy: 0.7248\n",
      "Epoch 11/100\n",
      "1788/1788 [==============================] - 0s 145us/step - loss: 0.5541 - accuracy: 0.7271\n",
      "Epoch 12/100\n",
      "1788/1788 [==============================] - 0s 154us/step - loss: 0.5512 - accuracy: 0.7287\n",
      "Epoch 13/100\n",
      "1788/1788 [==============================] - 0s 177us/step - loss: 0.5486 - accuracy: 0.7299\n",
      "Epoch 14/100\n",
      "1788/1788 [==============================] - 0s 189us/step - loss: 0.5458 - accuracy: 0.7327\n",
      "Epoch 15/100\n",
      "1788/1788 [==============================] - 0s 168us/step - loss: 0.5438 - accuracy: 0.7293\n",
      "Epoch 16/100\n",
      "1788/1788 [==============================] - 0s 164us/step - loss: 0.5421 - accuracy: 0.7327\n",
      "Epoch 17/100\n",
      "1788/1788 [==============================] - 0s 161us/step - loss: 0.5402 - accuracy: 0.7304\n",
      "Epoch 18/100\n",
      "1788/1788 [==============================] - 0s 181us/step - loss: 0.5388 - accuracy: 0.7276\n",
      "Epoch 19/100\n",
      "1788/1788 [==============================] - 0s 169us/step - loss: 0.5373 - accuracy: 0.7299\n",
      "Epoch 20/100\n",
      "1788/1788 [==============================] - 0s 183us/step - loss: 0.5364 - accuracy: 0.7293\n",
      "Epoch 21/100\n",
      "1788/1788 [==============================] - 0s 158us/step - loss: 0.5358 - accuracy: 0.7248\n",
      "Epoch 22/100\n",
      "1788/1788 [==============================] - 0s 175us/step - loss: 0.5346 - accuracy: 0.7315\n",
      "Epoch 23/100\n",
      "1788/1788 [==============================] - 0s 167us/step - loss: 0.5342 - accuracy: 0.7232\n",
      "Epoch 24/100\n",
      "1788/1788 [==============================] - 0s 177us/step - loss: 0.5334 - accuracy: 0.7287\n",
      "Epoch 25/100\n",
      "1788/1788 [==============================] - 0s 176us/step - loss: 0.5330 - accuracy: 0.7327\n",
      "Epoch 26/100\n",
      "1788/1788 [==============================] - 0s 179us/step - loss: 0.5325 - accuracy: 0.7271\n",
      "Epoch 27/100\n",
      "1788/1788 [==============================] - 0s 186us/step - loss: 0.5323 - accuracy: 0.7276\n",
      "Epoch 28/100\n",
      "1788/1788 [==============================] - 0s 226us/step - loss: 0.5318 - accuracy: 0.7271\n",
      "Epoch 29/100\n",
      "1788/1788 [==============================] - 0s 182us/step - loss: 0.5313 - accuracy: 0.7260\n",
      "Epoch 30/100\n",
      "1788/1788 [==============================] - 0s 180us/step - loss: 0.5314 - accuracy: 0.7248\n",
      "Epoch 31/100\n",
      "1788/1788 [==============================] - 0s 141us/step - loss: 0.5308 - accuracy: 0.7265\n",
      "Epoch 32/100\n",
      "1788/1788 [==============================] - 0s 148us/step - loss: 0.5306 - accuracy: 0.7265\n",
      "Epoch 33/100\n",
      "1788/1788 [==============================] - 0s 186us/step - loss: 0.5302 - accuracy: 0.7327\n",
      "Epoch 34/100\n",
      "1788/1788 [==============================] - 0s 181us/step - loss: 0.5302 - accuracy: 0.7299\n",
      "Epoch 35/100\n",
      "1788/1788 [==============================] - 0s 152us/step - loss: 0.5303 - accuracy: 0.7304\n",
      "Epoch 36/100\n",
      "1788/1788 [==============================] - 0s 165us/step - loss: 0.5301 - accuracy: 0.7310\n",
      "Epoch 37/100\n",
      "1788/1788 [==============================] - 0s 171us/step - loss: 0.5298 - accuracy: 0.7282\n",
      "Epoch 38/100\n",
      "1788/1788 [==============================] - 0s 153us/step - loss: 0.5298 - accuracy: 0.7265\n",
      "Epoch 39/100\n",
      "1788/1788 [==============================] - 0s 142us/step - loss: 0.5298 - accuracy: 0.7287\n",
      "Epoch 40/100\n",
      "1788/1788 [==============================] - 0s 155us/step - loss: 0.5293 - accuracy: 0.7271\n",
      "Epoch 41/100\n",
      "1788/1788 [==============================] - 0s 143us/step - loss: 0.5291 - accuracy: 0.7287\n",
      "Epoch 42/100\n",
      "1788/1788 [==============================] - 0s 131us/step - loss: 0.5290 - accuracy: 0.7293\n",
      "Epoch 43/100\n",
      "1788/1788 [==============================] - 0s 149us/step - loss: 0.5293 - accuracy: 0.7299\n",
      "Epoch 44/100\n",
      "1788/1788 [==============================] - 0s 151us/step - loss: 0.5285 - accuracy: 0.7287\n",
      "Epoch 45/100\n",
      "1788/1788 [==============================] - 0s 159us/step - loss: 0.5288 - accuracy: 0.7254\n",
      "Epoch 46/100\n",
      "1788/1788 [==============================] - 0s 139us/step - loss: 0.5291 - accuracy: 0.7299\n",
      "Epoch 47/100\n",
      "1788/1788 [==============================] - 0s 145us/step - loss: 0.5286 - accuracy: 0.7299\n",
      "Epoch 48/100\n",
      "1788/1788 [==============================] - 0s 132us/step - loss: 0.5281 - accuracy: 0.7260\n",
      "Epoch 49/100\n",
      "1788/1788 [==============================] - 0s 132us/step - loss: 0.5283 - accuracy: 0.7310\n",
      "Epoch 50/100\n",
      "1788/1788 [==============================] - 0s 156us/step - loss: 0.5284 - accuracy: 0.7299\n",
      "Epoch 51/100\n",
      "1788/1788 [==============================] - 0s 142us/step - loss: 0.5284 - accuracy: 0.7304\n",
      "Epoch 52/100\n",
      "1788/1788 [==============================] - 0s 142us/step - loss: 0.5281 - accuracy: 0.7265\n",
      "Epoch 53/100\n",
      "1788/1788 [==============================] - 0s 132us/step - loss: 0.5282 - accuracy: 0.7276\n",
      "Epoch 54/100\n",
      "1788/1788 [==============================] - 0s 132us/step - loss: 0.5280 - accuracy: 0.7299\n",
      "Epoch 55/100\n",
      "1788/1788 [==============================] - 0s 143us/step - loss: 0.5281 - accuracy: 0.7282\n",
      "Epoch 56/100\n",
      "1788/1788 [==============================] - 0s 139us/step - loss: 0.5282 - accuracy: 0.7287\n",
      "Epoch 57/100\n",
      "1788/1788 [==============================] - 0s 140us/step - loss: 0.5278 - accuracy: 0.7293\n",
      "Epoch 58/100\n",
      "1788/1788 [==============================] - 0s 155us/step - loss: 0.5277 - accuracy: 0.7299\n",
      "Epoch 59/100\n",
      "1788/1788 [==============================] - 0s 140us/step - loss: 0.5277 - accuracy: 0.7310\n",
      "Epoch 60/100\n",
      "1788/1788 [==============================] - 0s 145us/step - loss: 0.5276 - accuracy: 0.7287\n",
      "Epoch 61/100\n",
      "1788/1788 [==============================] - 0s 145us/step - loss: 0.5276 - accuracy: 0.7276\n",
      "Epoch 62/100\n",
      "1788/1788 [==============================] - 0s 138us/step - loss: 0.5275 - accuracy: 0.7304\n",
      "Epoch 63/100\n",
      "1788/1788 [==============================] - 0s 139us/step - loss: 0.5272 - accuracy: 0.7287\n",
      "Epoch 64/100\n",
      "1788/1788 [==============================] - 0s 129us/step - loss: 0.5276 - accuracy: 0.7276\n",
      "Epoch 65/100\n",
      "1788/1788 [==============================] - 0s 135us/step - loss: 0.5272 - accuracy: 0.7293\n",
      "Epoch 66/100\n",
      "1788/1788 [==============================] - 0s 133us/step - loss: 0.5272 - accuracy: 0.7287\n",
      "Epoch 67/100\n",
      "1788/1788 [==============================] - 0s 137us/step - loss: 0.5273 - accuracy: 0.7293\n",
      "Epoch 68/100\n",
      "1788/1788 [==============================] - 0s 143us/step - loss: 0.5273 - accuracy: 0.7332\n",
      "Epoch 69/100\n",
      "1788/1788 [==============================] - 0s 131us/step - loss: 0.5272 - accuracy: 0.7299\n",
      "Epoch 70/100\n",
      "1788/1788 [==============================] - 0s 145us/step - loss: 0.5273 - accuracy: 0.7299\n",
      "Epoch 71/100\n",
      "1788/1788 [==============================] - 0s 133us/step - loss: 0.5271 - accuracy: 0.7304\n",
      "Epoch 72/100\n",
      "1788/1788 [==============================] - 0s 132us/step - loss: 0.5272 - accuracy: 0.7293\n",
      "Epoch 73/100\n",
      "1788/1788 [==============================] - 0s 136us/step - loss: 0.5269 - accuracy: 0.7332\n",
      "Epoch 74/100\n",
      "1788/1788 [==============================] - 0s 131us/step - loss: 0.5269 - accuracy: 0.7321\n",
      "Epoch 75/100\n",
      "1788/1788 [==============================] - 0s 135us/step - loss: 0.5270 - accuracy: 0.7304\n",
      "Epoch 76/100\n",
      "1788/1788 [==============================] - 0s 140us/step - loss: 0.5268 - accuracy: 0.7299\n",
      "Epoch 77/100\n",
      "1788/1788 [==============================] - 0s 133us/step - loss: 0.5270 - accuracy: 0.7310\n",
      "Epoch 78/100\n",
      "1788/1788 [==============================] - 0s 139us/step - loss: 0.5268 - accuracy: 0.7304\n",
      "Epoch 79/100\n",
      "1788/1788 [==============================] - 0s 134us/step - loss: 0.5267 - accuracy: 0.7310\n",
      "Epoch 80/100\n",
      "1788/1788 [==============================] - 0s 126us/step - loss: 0.5268 - accuracy: 0.7287\n",
      "Epoch 81/100\n",
      "1788/1788 [==============================] - 0s 136us/step - loss: 0.5271 - accuracy: 0.7293\n",
      "Epoch 82/100\n",
      "1788/1788 [==============================] - 0s 128us/step - loss: 0.5268 - accuracy: 0.7315\n",
      "Epoch 83/100\n",
      "1788/1788 [==============================] - 0s 133us/step - loss: 0.5267 - accuracy: 0.7304\n",
      "Epoch 84/100\n",
      "1788/1788 [==============================] - 0s 138us/step - loss: 0.5267 - accuracy: 0.7310\n",
      "Epoch 85/100\n",
      "1788/1788 [==============================] - 0s 135us/step - loss: 0.5267 - accuracy: 0.7315\n",
      "Epoch 86/100\n",
      "1788/1788 [==============================] - 0s 135us/step - loss: 0.5270 - accuracy: 0.7287\n",
      "Epoch 87/100\n",
      "1788/1788 [==============================] - 0s 132us/step - loss: 0.5264 - accuracy: 0.7315\n",
      "Epoch 88/100\n",
      "1788/1788 [==============================] - 0s 129us/step - loss: 0.5263 - accuracy: 0.7310\n",
      "Epoch 89/100\n",
      "1788/1788 [==============================] - 0s 126us/step - loss: 0.5265 - accuracy: 0.7287\n",
      "Epoch 90/100\n",
      "1788/1788 [==============================] - 0s 148us/step - loss: 0.5267 - accuracy: 0.7304\n",
      "Epoch 91/100\n",
      "1788/1788 [==============================] - 0s 148us/step - loss: 0.5266 - accuracy: 0.7304\n",
      "Epoch 92/100\n",
      "1788/1788 [==============================] - 0s 145us/step - loss: 0.5265 - accuracy: 0.7310\n",
      "Epoch 93/100\n",
      "1788/1788 [==============================] - 0s 134us/step - loss: 0.5265 - accuracy: 0.7282\n",
      "Epoch 94/100\n",
      "1788/1788 [==============================] - 0s 128us/step - loss: 0.5263 - accuracy: 0.7304\n",
      "Epoch 95/100\n",
      "1788/1788 [==============================] - 0s 134us/step - loss: 0.5267 - accuracy: 0.7304\n",
      "Epoch 96/100\n",
      "1788/1788 [==============================] - 0s 134us/step - loss: 0.5263 - accuracy: 0.7304\n",
      "Epoch 97/100\n",
      "1788/1788 [==============================] - 0s 145us/step - loss: 0.5265 - accuracy: 0.7293\n",
      "Epoch 98/100\n",
      "1788/1788 [==============================] - 0s 146us/step - loss: 0.5265 - accuracy: 0.7321\n",
      "Epoch 99/100\n",
      "1788/1788 [==============================] - 0s 140us/step - loss: 0.5265 - accuracy: 0.7293\n",
      "Epoch 100/100\n",
      "1788/1788 [==============================] - 0s 136us/step - loss: 0.5262 - accuracy: 0.7304\n"
     ]
    },
    {
     "data": {
      "text/plain": [
       "<keras.callbacks.callbacks.History at 0x22efdec2b48>"
      ]
     },
     "execution_count": 50,
     "metadata": {},
     "output_type": "execute_result"
    }
   ],
   "source": [
    "# Fitting the ANN to the Training set\n",
    "cnn4.fit(X_train, y_train, batch_size = 10, nb_epoch = 100)"
   ]
  },
  {
   "cell_type": "code",
   "execution_count": 51,
   "metadata": {},
   "outputs": [],
   "source": [
    "# Predicting the Test set results\n",
    "y_pred9 = cnn4.predict(X_test)\n",
    "y_pred9 = (y_pred9 > 0.5)"
   ]
  },
  {
   "cell_type": "code",
   "execution_count": 52,
   "metadata": {},
   "outputs": [
    {
     "name": "stdout",
     "output_type": "stream",
     "text": [
      "[[189  59]\n",
      " [ 66 133]]\n"
     ]
    }
   ],
   "source": [
    "# Making the Confusion Matrix\n",
    "from sklearn.metrics import confusion_matrix\n",
    "cm4 = confusion_matrix(y_test, y_pred9)\n",
    "print(cm4)"
   ]
  },
  {
   "cell_type": "code",
   "execution_count": 53,
   "metadata": {},
   "outputs": [
    {
     "name": "stderr",
     "output_type": "stream",
     "text": [
      "C:\\Users\\38095\\anaconda3\\envs\\labvika\\lib\\site-packages\\ipykernel_launcher.py:5: UserWarning: Update your `Dense` call to the Keras 2 API: `Dense(activation=\"relu\", input_dim=4, units=4, kernel_initializer=\"uniform\")`\n",
      "  \"\"\"\n",
      "C:\\Users\\38095\\anaconda3\\envs\\labvika\\lib\\site-packages\\ipykernel_launcher.py:8: UserWarning: Update your `Dense` call to the Keras 2 API: `Dense(activation=\"sigmoid\", units=1, kernel_initializer=\"uniform\")`\n",
      "  \n"
     ]
    }
   ],
   "source": [
    "# Initialising the ANN 4-4-1\n",
    "cnn5 = Sequential()\n",
    "\n",
    "# Adding the input layer and the first hidden layer\n",
    "cnn5.add(Dense(output_dim = 4, init = 'uniform', activation = 'relu', input_dim = 4))\n",
    "\n",
    "# Adding the output layer\n",
    "cnn5.add(Dense(output_dim = 1, init = 'uniform', activation = 'sigmoid'))\n",
    "\n",
    "# Compiling the ANN\n",
    "cnn5.compile(optimizer = 'adam', loss = 'binary_crossentropy', metrics = ['accuracy'])"
   ]
  },
  {
   "cell_type": "code",
   "execution_count": 54,
   "metadata": {},
   "outputs": [
    {
     "name": "stderr",
     "output_type": "stream",
     "text": [
      "C:\\Users\\38095\\anaconda3\\envs\\labvika\\lib\\site-packages\\ipykernel_launcher.py:2: UserWarning: The `nb_epoch` argument in `fit` has been renamed `epochs`.\n",
      "  \n"
     ]
    },
    {
     "name": "stdout",
     "output_type": "stream",
     "text": [
      "Epoch 1/100\n",
      "1788/1788 [==============================] - 0s 176us/step - loss: 0.6856 - accuracy: 0.5839\n",
      "Epoch 2/100\n",
      "1788/1788 [==============================] - 0s 130us/step - loss: 0.6407 - accuracy: 0.6879\n",
      "Epoch 3/100\n",
      "1788/1788 [==============================] - 0s 128us/step - loss: 0.5932 - accuracy: 0.6963\n",
      "Epoch 4/100\n",
      "1788/1788 [==============================] - 0s 130us/step - loss: 0.5737 - accuracy: 0.6969\n",
      "Epoch 5/100\n",
      "1788/1788 [==============================] - 0s 148us/step - loss: 0.5666 - accuracy: 0.7075\n",
      "Epoch 6/100\n",
      "1788/1788 [==============================] - 0s 128us/step - loss: 0.5627 - accuracy: 0.7086\n",
      "Epoch 7/100\n",
      "1788/1788 [==============================] - 0s 130us/step - loss: 0.5598 - accuracy: 0.7114\n",
      "Epoch 8/100\n",
      "1788/1788 [==============================] - 0s 126us/step - loss: 0.5574 - accuracy: 0.7114\n",
      "Epoch 9/100\n",
      "1788/1788 [==============================] - 0s 139us/step - loss: 0.5542 - accuracy: 0.7086\n",
      "Epoch 10/100\n",
      "1788/1788 [==============================] - 0s 132us/step - loss: 0.5515 - accuracy: 0.7153\n",
      "Epoch 11/100\n",
      "1788/1788 [==============================] - 0s 132us/step - loss: 0.5481 - accuracy: 0.7142\n",
      "Epoch 12/100\n",
      "1788/1788 [==============================] - 0s 126us/step - loss: 0.5455 - accuracy: 0.7159\n",
      "Epoch 13/100\n",
      "1788/1788 [==============================] - 0s 123us/step - loss: 0.5430 - accuracy: 0.7181\n",
      "Epoch 14/100\n",
      "1788/1788 [==============================] - 0s 128us/step - loss: 0.5406 - accuracy: 0.7181\n",
      "Epoch 15/100\n",
      "1788/1788 [==============================] - 0s 131us/step - loss: 0.5389 - accuracy: 0.7220\n",
      "Epoch 16/100\n",
      "1788/1788 [==============================] - 0s 128us/step - loss: 0.5370 - accuracy: 0.7271\n",
      "Epoch 17/100\n",
      "1788/1788 [==============================] - 0s 135us/step - loss: 0.5356 - accuracy: 0.7248\n",
      "Epoch 18/100\n",
      "1788/1788 [==============================] - 0s 129us/step - loss: 0.5342 - accuracy: 0.7282\n",
      "Epoch 19/100\n",
      "1788/1788 [==============================] - 0s 126us/step - loss: 0.5328 - accuracy: 0.7271\n",
      "Epoch 20/100\n",
      "1788/1788 [==============================] - 0s 121us/step - loss: 0.5317 - accuracy: 0.7276\n",
      "Epoch 21/100\n",
      "1788/1788 [==============================] - 0s 127us/step - loss: 0.5308 - accuracy: 0.7265\n",
      "Epoch 22/100\n",
      "1788/1788 [==============================] - 0s 134us/step - loss: 0.5301 - accuracy: 0.7260\n",
      "Epoch 23/100\n",
      "1788/1788 [==============================] - 0s 149us/step - loss: 0.5293 - accuracy: 0.7315\n",
      "Epoch 24/100\n",
      "1788/1788 [==============================] - 0s 144us/step - loss: 0.5287 - accuracy: 0.7282\n",
      "Epoch 25/100\n",
      "1788/1788 [==============================] - 0s 134us/step - loss: 0.5279 - accuracy: 0.7293\n",
      "Epoch 26/100\n",
      "1788/1788 [==============================] - 0s 145us/step - loss: 0.5272 - accuracy: 0.7271\n",
      "Epoch 27/100\n",
      "1788/1788 [==============================] - 0s 160us/step - loss: 0.5267 - accuracy: 0.7276\n",
      "Epoch 28/100\n",
      "1788/1788 [==============================] - 0s 164us/step - loss: 0.5261 - accuracy: 0.7321\n",
      "Epoch 29/100\n",
      "1788/1788 [==============================] - 0s 154us/step - loss: 0.5257 - accuracy: 0.7260\n",
      "Epoch 30/100\n",
      "1788/1788 [==============================] - 0s 159us/step - loss: 0.5253 - accuracy: 0.7343\n",
      "Epoch 31/100\n",
      "1788/1788 [==============================] - 0s 171us/step - loss: 0.5250 - accuracy: 0.7293\n",
      "Epoch 32/100\n",
      "1788/1788 [==============================] - 0s 150us/step - loss: 0.5250 - accuracy: 0.7260\n",
      "Epoch 33/100\n",
      "1788/1788 [==============================] - 0s 166us/step - loss: 0.5246 - accuracy: 0.7299\n",
      "Epoch 34/100\n",
      "1788/1788 [==============================] - 0s 177us/step - loss: 0.5245 - accuracy: 0.7293\n",
      "Epoch 35/100\n",
      "1788/1788 [==============================] - 0s 159us/step - loss: 0.5239 - accuracy: 0.7276\n",
      "Epoch 36/100\n",
      "1788/1788 [==============================] - 0s 176us/step - loss: 0.5238 - accuracy: 0.7232\n",
      "Epoch 37/100\n",
      "1788/1788 [==============================] - 0s 162us/step - loss: 0.5235 - accuracy: 0.7276\n",
      "Epoch 38/100\n",
      "1788/1788 [==============================] - 0s 153us/step - loss: 0.5233 - accuracy: 0.7282\n",
      "Epoch 39/100\n",
      "1788/1788 [==============================] - 0s 165us/step - loss: 0.5235 - accuracy: 0.7237\n",
      "Epoch 40/100\n",
      "1788/1788 [==============================] - 0s 162us/step - loss: 0.5231 - accuracy: 0.7243\n",
      "Epoch 41/100\n",
      "1788/1788 [==============================] - 0s 131us/step - loss: 0.5230 - accuracy: 0.7243\n",
      "Epoch 42/100\n",
      "1788/1788 [==============================] - 0s 135us/step - loss: 0.5230 - accuracy: 0.7254\n",
      "Epoch 43/100\n",
      "1788/1788 [==============================] - 0s 140us/step - loss: 0.5227 - accuracy: 0.7248\n",
      "Epoch 44/100\n",
      "1788/1788 [==============================] - 0s 133us/step - loss: 0.5226 - accuracy: 0.7254\n",
      "Epoch 45/100\n",
      "1788/1788 [==============================] - 0s 128us/step - loss: 0.5226 - accuracy: 0.7254\n",
      "Epoch 46/100\n",
      "1788/1788 [==============================] - 0s 134us/step - loss: 0.5224 - accuracy: 0.7276\n",
      "Epoch 47/100\n",
      "1788/1788 [==============================] - 0s 154us/step - loss: 0.5223 - accuracy: 0.7254\n",
      "Epoch 48/100\n",
      "1788/1788 [==============================] - 0s 148us/step - loss: 0.5224 - accuracy: 0.7254\n",
      "Epoch 49/100\n",
      "1788/1788 [==============================] - 0s 150us/step - loss: 0.5223 - accuracy: 0.7260\n",
      "Epoch 50/100\n",
      "1788/1788 [==============================] - 0s 172us/step - loss: 0.5222 - accuracy: 0.7248\n",
      "Epoch 51/100\n",
      "1788/1788 [==============================] - 0s 196us/step - loss: 0.5223 - accuracy: 0.7254\n",
      "Epoch 52/100\n",
      "1788/1788 [==============================] - 0s 140us/step - loss: 0.5222 - accuracy: 0.7248\n",
      "Epoch 53/100\n",
      "1788/1788 [==============================] - 0s 183us/step - loss: 0.5221 - accuracy: 0.7243\n",
      "Epoch 54/100\n",
      "1788/1788 [==============================] - 0s 156us/step - loss: 0.5221 - accuracy: 0.7243\n",
      "Epoch 55/100\n",
      "1788/1788 [==============================] - 0s 181us/step - loss: 0.5219 - accuracy: 0.7260\n",
      "Epoch 56/100\n",
      "1788/1788 [==============================] - 0s 159us/step - loss: 0.5218 - accuracy: 0.7271\n",
      "Epoch 57/100\n",
      "1788/1788 [==============================] - 0s 175us/step - loss: 0.5220 - accuracy: 0.7293\n",
      "Epoch 58/100\n",
      "1788/1788 [==============================] - 0s 149us/step - loss: 0.5220 - accuracy: 0.7260\n",
      "Epoch 59/100\n",
      "1788/1788 [==============================] - 0s 152us/step - loss: 0.5218 - accuracy: 0.7254\n",
      "Epoch 60/100\n",
      "1788/1788 [==============================] - 0s 138us/step - loss: 0.5218 - accuracy: 0.7293\n",
      "Epoch 61/100\n",
      "1788/1788 [==============================] - 0s 162us/step - loss: 0.5217 - accuracy: 0.7299\n",
      "Epoch 62/100\n",
      "1788/1788 [==============================] - 0s 149us/step - loss: 0.5214 - accuracy: 0.7248\n",
      "Epoch 63/100\n",
      "1788/1788 [==============================] - 0s 125us/step - loss: 0.5217 - accuracy: 0.7260\n",
      "Epoch 64/100\n",
      "1788/1788 [==============================] - 0s 133us/step - loss: 0.5213 - accuracy: 0.7276\n",
      "Epoch 65/100\n",
      "1788/1788 [==============================] - 0s 135us/step - loss: 0.5214 - accuracy: 0.7260\n",
      "Epoch 66/100\n",
      "1788/1788 [==============================] - 0s 132us/step - loss: 0.5214 - accuracy: 0.7282\n",
      "Epoch 67/100\n",
      "1788/1788 [==============================] - 0s 122us/step - loss: 0.5217 - accuracy: 0.7271\n",
      "Epoch 68/100\n",
      "1788/1788 [==============================] - 0s 160us/step - loss: 0.5211 - accuracy: 0.7276\n",
      "Epoch 69/100\n",
      "1788/1788 [==============================] - 0s 178us/step - loss: 0.5212 - accuracy: 0.7254\n",
      "Epoch 70/100\n",
      "1788/1788 [==============================] - 0s 162us/step - loss: 0.5214 - accuracy: 0.7254\n",
      "Epoch 71/100\n",
      "1788/1788 [==============================] - 0s 178us/step - loss: 0.5214 - accuracy: 0.7243\n",
      "Epoch 72/100\n",
      "1788/1788 [==============================] - 0s 126us/step - loss: 0.5211 - accuracy: 0.7299\n",
      "Epoch 73/100\n",
      "1788/1788 [==============================] - 0s 187us/step - loss: 0.5210 - accuracy: 0.7299\n",
      "Epoch 74/100\n",
      "1788/1788 [==============================] - 0s 158us/step - loss: 0.5211 - accuracy: 0.7287\n",
      "Epoch 75/100\n",
      "1788/1788 [==============================] - 0s 186us/step - loss: 0.5212 - accuracy: 0.7254\n",
      "Epoch 76/100\n",
      "1788/1788 [==============================] - 0s 162us/step - loss: 0.5211 - accuracy: 0.7321\n",
      "Epoch 77/100\n",
      "1788/1788 [==============================] - 0s 175us/step - loss: 0.5210 - accuracy: 0.7282\n",
      "Epoch 78/100\n",
      "1788/1788 [==============================] - 0s 186us/step - loss: 0.5209 - accuracy: 0.7293\n",
      "Epoch 79/100\n",
      "1788/1788 [==============================] - 0s 159us/step - loss: 0.5210 - accuracy: 0.7260\n",
      "Epoch 80/100\n",
      "1788/1788 [==============================] - 0s 174us/step - loss: 0.5210 - accuracy: 0.7287\n",
      "Epoch 81/100\n",
      "1788/1788 [==============================] - 0s 139us/step - loss: 0.5208 - accuracy: 0.7299\n",
      "Epoch 82/100\n",
      "1788/1788 [==============================] - 0s 138us/step - loss: 0.5209 - accuracy: 0.7299\n",
      "Epoch 83/100\n",
      "1788/1788 [==============================] - 0s 130us/step - loss: 0.5211 - accuracy: 0.7310\n",
      "Epoch 84/100\n",
      "1788/1788 [==============================] - 0s 130us/step - loss: 0.5209 - accuracy: 0.7260\n",
      "Epoch 85/100\n",
      "1788/1788 [==============================] - 0s 134us/step - loss: 0.5206 - accuracy: 0.7276\n",
      "Epoch 86/100\n",
      "1788/1788 [==============================] - 0s 124us/step - loss: 0.5207 - accuracy: 0.7299\n",
      "Epoch 87/100\n",
      "1788/1788 [==============================] - 0s 148us/step - loss: 0.5208 - accuracy: 0.7299\n",
      "Epoch 88/100\n",
      "1788/1788 [==============================] - 0s 141us/step - loss: 0.5208 - accuracy: 0.7327\n",
      "Epoch 89/100\n",
      "1788/1788 [==============================] - 0s 126us/step - loss: 0.5207 - accuracy: 0.7299\n",
      "Epoch 90/100\n",
      "1788/1788 [==============================] - 0s 126us/step - loss: 0.5206 - accuracy: 0.7315\n",
      "Epoch 91/100\n",
      "1788/1788 [==============================] - 0s 149us/step - loss: 0.5208 - accuracy: 0.7315\n",
      "Epoch 92/100\n",
      "1788/1788 [==============================] - 0s 196us/step - loss: 0.5207 - accuracy: 0.7287\n",
      "Epoch 93/100\n",
      "1788/1788 [==============================] - 0s 188us/step - loss: 0.5206 - accuracy: 0.7343\n",
      "Epoch 94/100\n",
      "1788/1788 [==============================] - 0s 177us/step - loss: 0.5205 - accuracy: 0.7293\n",
      "Epoch 95/100\n",
      "1788/1788 [==============================] - 0s 158us/step - loss: 0.5205 - accuracy: 0.7304\n",
      "Epoch 96/100\n",
      "1788/1788 [==============================] - 0s 154us/step - loss: 0.5208 - accuracy: 0.7321\n",
      "Epoch 97/100\n",
      "1788/1788 [==============================] - 0s 158us/step - loss: 0.5208 - accuracy: 0.7327\n",
      "Epoch 98/100\n",
      "1788/1788 [==============================] - 0s 159us/step - loss: 0.5206 - accuracy: 0.7315\n",
      "Epoch 99/100\n",
      "1788/1788 [==============================] - 0s 145us/step - loss: 0.5204 - accuracy: 0.7276\n",
      "Epoch 100/100\n",
      "1788/1788 [==============================] - 0s 139us/step - loss: 0.5206 - accuracy: 0.7321\n"
     ]
    },
    {
     "data": {
      "text/plain": [
       "<keras.callbacks.callbacks.History at 0x22eff37ff08>"
      ]
     },
     "execution_count": 54,
     "metadata": {},
     "output_type": "execute_result"
    }
   ],
   "source": [
    "# Fitting the ANN to the Training set\n",
    "cnn5.fit(X_train, y_train, batch_size = 10, nb_epoch = 100)"
   ]
  },
  {
   "cell_type": "code",
   "execution_count": 55,
   "metadata": {},
   "outputs": [],
   "source": [
    "# Predicting the Test set results\n",
    "y_pred10 = cnn5.predict(X_test)\n",
    "y_pred10 = (y_pred10 > 0.5)"
   ]
  },
  {
   "cell_type": "code",
   "execution_count": 56,
   "metadata": {},
   "outputs": [
    {
     "name": "stdout",
     "output_type": "stream",
     "text": [
      "[[191  57]\n",
      " [ 68 131]]\n"
     ]
    }
   ],
   "source": [
    "# Making the Confusion Matrix\n",
    "from sklearn.metrics import confusion_matrix\n",
    "cm5 = confusion_matrix(y_test, y_pred10)\n",
    "print(cm5)"
   ]
  },
  {
   "cell_type": "markdown",
   "metadata": {},
   "source": [
    "За кількістю помилково розпізнаних данних дана модель не виявилась найкращою. Кількість помилково розпізнаних даних є більше, ніж у моделі KNN.\n",
    "Якщо ж порівняти між собою розглянуті архітектури нейронних мереж за кількістю помилково розпізнаних даних, то найкращою виявилась модель 4-3-2-1. Вона має лише 122 помилково розпізнаних спостереження. Найгіршою є 4-2-2-1. Вона має 127 неправильно визначених результата.\n",
    "Найкращою з усіх розглянутих моделей виявилась модель KNN. Саме її варто застосовувати при визначенні того чи буде користувач надавати більше переваги вину чи ні."
   ]
  }
 ],
 "metadata": {
  "kernelspec": {
   "display_name": "Python 3",
   "language": "python",
   "name": "python3"
  },
  "language_info": {
   "codemirror_mode": {
    "name": "ipython",
    "version": 3
   },
   "file_extension": ".py",
   "mimetype": "text/x-python",
   "name": "python",
   "nbconvert_exporter": "python",
   "pygments_lexer": "ipython3",
   "version": "3.7.9"
  }
 },
 "nbformat": 4,
 "nbformat_minor": 4
}
